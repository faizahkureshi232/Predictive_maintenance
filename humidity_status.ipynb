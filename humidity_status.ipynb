{
  "nbformat": 4,
  "nbformat_minor": 0,
  "metadata": {
    "colab": {
      "provenance": []
    },
    "kernelspec": {
      "name": "python3",
      "display_name": "Python 3"
    },
    "language_info": {
      "name": "python"
    }
  },
  "cells": [
    {
      "cell_type": "code",
      "execution_count": 27,
      "metadata": {
        "id": "hMFC16-_6kgz"
      },
      "outputs": [],
      "source": [
        "import numpy as np\n",
        "import matplotlib.pyplot as plt\n",
        "import pandas as pd\n",
        "from sklearn.preprocessing import LabelEncoder\n",
        "from sklearn.model_selection import train_test_split\n",
        "from sklearn import metrics\n",
        "from sklearn.metrics import confusion_matrix, accuracy_score\n",
        "from sklearn.neighbors import KNeighborsClassifier\n",
        "from sklearn.preprocessing import StandardScaler"
      ]
    },
    {
      "cell_type": "code",
      "source": [
        "dataset = pd.read_csv('dataset.csv')"
      ],
      "metadata": {
        "id": "PPjjdX63pS4N"
      },
      "execution_count": 28,
      "outputs": []
    },
    {
      "cell_type": "markdown",
      "source": [
        "##Getting target and features values from dataset"
      ],
      "metadata": {
        "id": "tnB6WiwapWcl"
      }
    },
    {
      "cell_type": "code",
      "source": [
        "def split(b,dataset):\n",
        "  X = dataset.iloc[:, :-4].values\n",
        "  y = dataset[b]\n",
        "  return X,y"
      ],
      "metadata": {
        "id": "CJEFWt5J6qRw"
      },
      "execution_count": 29,
      "outputs": []
    },
    {
      "cell_type": "markdown",
      "source": [
        "##Lable Encoding"
      ],
      "metadata": {
        "id": "lVzfRjcZe2Hl"
      }
    },
    {
      "cell_type": "code",
      "source": [
        "def lableencoding(y):\n",
        "  le = LabelEncoder()\n",
        "  encoded_data = le.fit_transform(Y)\n",
        "\n",
        "  # Get the classes and their corresponding numerical values\n",
        "  classes = le.classes_\n",
        "  numerical_values = le.transform(classes)\n",
        "\n",
        "  # Print the classes and their corresponding numerical values\n",
        "  for i in range(len(classes)):\n",
        "      print(f'{classes[i]}: {numerical_values[i]}')\n",
        "  \n",
        "  print()\n",
        "  return encoded_data\n",
        "  \n"
      ],
      "metadata": {
        "id": "m9yN7Bvaf8jO"
      },
      "execution_count": 30,
      "outputs": []
    },
    {
      "cell_type": "markdown",
      "source": [
        "##Splitting Of Dataset"
      ],
      "metadata": {
        "id": "4VoM23-5e5XH"
      }
    },
    {
      "cell_type": "code",
      "source": [
        "def traintestsplit(X,y):\n",
        "  X_train, X_test, y_train, y_test = train_test_split(X, y, test_size = 0.25, random_state = 0)\n",
        "  #feature scaling\n",
        "  sc = StandardScaler()\n",
        "  X_train = sc.fit_transform(X_train)\n",
        "  X_test = sc.transform(X_test)\n",
        "  return X_train, X_test, y_train, y_test"
      ],
      "metadata": {
        "id": "TsRMf6KJMGRY"
      },
      "execution_count": 31,
      "outputs": []
    },
    {
      "cell_type": "markdown",
      "source": [
        "##Model Building"
      ],
      "metadata": {
        "id": "FczszR8Dzawx"
      }
    },
    {
      "cell_type": "code",
      "source": [
        "import tensorflow as tf"
      ],
      "metadata": {
        "id": "YDWD6nN7YL6W"
      },
      "execution_count": 32,
      "outputs": []
    },
    {
      "cell_type": "code",
      "source": [
        "b='humidity_status'"
      ],
      "metadata": {
        "id": "KYyx1IVdX6zD"
      },
      "execution_count": 33,
      "outputs": []
    },
    {
      "cell_type": "code",
      "source": [
        "X,Y=split(b,dataset)"
      ],
      "metadata": {
        "id": "J_sZTzUMXEQ6"
      },
      "execution_count": 34,
      "outputs": []
    },
    {
      "cell_type": "code",
      "source": [
        "y=lableencoding(Y)"
      ],
      "metadata": {
        "colab": {
          "base_uri": "https://localhost:8080/"
        },
        "id": "61cWrxNqXK5H",
        "outputId": "cbcd650f-7567-4ea0-ef35-9d47478975a5"
      },
      "execution_count": 35,
      "outputs": [
        {
          "output_type": "stream",
          "name": "stdout",
          "text": [
            "HIGH: 0\n",
            "LOW: 1\n",
            "MEDIUM: 2\n",
            "NORMAL: 3\n",
            "\n"
          ]
        }
      ]
    },
    {
      "cell_type": "code",
      "source": [
        "X_train, X_test, y_train, y_test=traintestsplit(X,y)"
      ],
      "metadata": {
        "id": "CljtXOcV1lBg"
      },
      "execution_count": 36,
      "outputs": []
    },
    {
      "cell_type": "code",
      "source": [
        "ann = tf.keras.models.Sequential()"
      ],
      "metadata": {
        "id": "9ZLPp6tTZrMW"
      },
      "execution_count": 37,
      "outputs": []
    },
    {
      "cell_type": "code",
      "source": [
        "ann.add(tf.keras.layers.Dense(units=6, activation='relu'))\n",
        "ann.add(tf.keras.layers.Dense(units=6, activation='relu'))\n",
        "ann.add(tf.keras.layers.Dense(units=1, activation='sigmoid'))\n"
      ],
      "metadata": {
        "id": "46mBayQwZiXf"
      },
      "execution_count": 38,
      "outputs": []
    },
    {
      "cell_type": "markdown",
      "source": [
        "Compiling"
      ],
      "metadata": {
        "id": "hw4Rl9yiZ1yL"
      }
    },
    {
      "cell_type": "code",
      "source": [
        "ann.compile(optimizer = 'adam', loss = 'binary_crossentropy', metrics = ['accuracy'])"
      ],
      "metadata": {
        "id": "VCukMHf9Z55r"
      },
      "execution_count": 39,
      "outputs": []
    },
    {
      "cell_type": "code",
      "source": [
        "ann.fit(X_train, y_train, batch_size = 32, epochs = 100)"
      ],
      "metadata": {
        "colab": {
          "base_uri": "https://localhost:8080/"
        },
        "id": "Ex9s1V_iZ76X",
        "outputId": "7de0ba98-f910-4445-ffad-22cb1c1242ce"
      },
      "execution_count": 40,
      "outputs": [
        {
          "output_type": "stream",
          "name": "stdout",
          "text": [
            "Epoch 1/100\n",
            "118/118 [==============================] - 1s 2ms/step - loss: 0.6658 - accuracy: 0.1456\n",
            "Epoch 2/100\n",
            "118/118 [==============================] - 0s 2ms/step - loss: -0.8406 - accuracy: 0.1899\n",
            "Epoch 3/100\n",
            "118/118 [==============================] - 0s 2ms/step - loss: -4.5760 - accuracy: 0.1925\n",
            "Epoch 4/100\n",
            "118/118 [==============================] - 0s 2ms/step - loss: -12.3535 - accuracy: 0.1925\n",
            "Epoch 5/100\n",
            "118/118 [==============================] - 0s 2ms/step - loss: -27.3371 - accuracy: 0.1925\n",
            "Epoch 6/100\n",
            "118/118 [==============================] - 0s 2ms/step - loss: -53.3274 - accuracy: 0.1925\n",
            "Epoch 7/100\n",
            "118/118 [==============================] - 0s 2ms/step - loss: -92.9387 - accuracy: 0.1925\n",
            "Epoch 8/100\n",
            "118/118 [==============================] - 0s 2ms/step - loss: -147.3216 - accuracy: 0.1925\n",
            "Epoch 9/100\n",
            "118/118 [==============================] - 0s 2ms/step - loss: -217.7802 - accuracy: 0.1925\n",
            "Epoch 10/100\n",
            "118/118 [==============================] - 0s 2ms/step - loss: -305.1426 - accuracy: 0.1925\n",
            "Epoch 11/100\n",
            "118/118 [==============================] - 0s 2ms/step - loss: -411.6509 - accuracy: 0.1925\n",
            "Epoch 12/100\n",
            "118/118 [==============================] - 0s 2ms/step - loss: -537.7970 - accuracy: 0.1925\n",
            "Epoch 13/100\n",
            "118/118 [==============================] - 0s 2ms/step - loss: -683.5306 - accuracy: 0.1925\n",
            "Epoch 14/100\n",
            "118/118 [==============================] - 0s 2ms/step - loss: -850.1000 - accuracy: 0.1925\n",
            "Epoch 15/100\n",
            "118/118 [==============================] - 0s 2ms/step - loss: -1038.7444 - accuracy: 0.1925\n",
            "Epoch 16/100\n",
            "118/118 [==============================] - 0s 2ms/step - loss: -1249.2333 - accuracy: 0.1925\n",
            "Epoch 17/100\n",
            "118/118 [==============================] - 0s 2ms/step - loss: -1482.5131 - accuracy: 0.1925\n",
            "Epoch 18/100\n",
            "118/118 [==============================] - 0s 2ms/step - loss: -1737.7322 - accuracy: 0.1925\n",
            "Epoch 19/100\n",
            "118/118 [==============================] - 0s 2ms/step - loss: -2015.2969 - accuracy: 0.1925\n",
            "Epoch 20/100\n",
            "118/118 [==============================] - 0s 2ms/step - loss: -2317.1306 - accuracy: 0.1925\n",
            "Epoch 21/100\n",
            "118/118 [==============================] - 0s 2ms/step - loss: -2642.6152 - accuracy: 0.1925\n",
            "Epoch 22/100\n",
            "118/118 [==============================] - 0s 2ms/step - loss: -2994.3171 - accuracy: 0.1925\n",
            "Epoch 23/100\n",
            "118/118 [==============================] - 0s 2ms/step - loss: -3370.8438 - accuracy: 0.1925\n",
            "Epoch 24/100\n",
            "118/118 [==============================] - 0s 2ms/step - loss: -3774.1931 - accuracy: 0.1925\n",
            "Epoch 25/100\n",
            "118/118 [==============================] - 0s 2ms/step - loss: -4201.6338 - accuracy: 0.1925\n",
            "Epoch 26/100\n",
            "118/118 [==============================] - 0s 2ms/step - loss: -4657.2964 - accuracy: 0.1925\n",
            "Epoch 27/100\n",
            "118/118 [==============================] - 0s 2ms/step - loss: -5136.6221 - accuracy: 0.1925\n",
            "Epoch 28/100\n",
            "118/118 [==============================] - 0s 2ms/step - loss: -5643.2461 - accuracy: 0.1925\n",
            "Epoch 29/100\n",
            "118/118 [==============================] - 0s 2ms/step - loss: -6179.4453 - accuracy: 0.1925\n",
            "Epoch 30/100\n",
            "118/118 [==============================] - 0s 2ms/step - loss: -6740.8315 - accuracy: 0.1925\n",
            "Epoch 31/100\n",
            "118/118 [==============================] - 0s 2ms/step - loss: -7329.1021 - accuracy: 0.1925\n",
            "Epoch 32/100\n",
            "118/118 [==============================] - 0s 2ms/step - loss: -7944.0718 - accuracy: 0.1925\n",
            "Epoch 33/100\n",
            "118/118 [==============================] - 0s 2ms/step - loss: -8587.7783 - accuracy: 0.1925\n",
            "Epoch 34/100\n",
            "118/118 [==============================] - 0s 2ms/step - loss: -9260.2891 - accuracy: 0.1925\n",
            "Epoch 35/100\n",
            "118/118 [==============================] - 0s 2ms/step - loss: -9964.7842 - accuracy: 0.1925\n",
            "Epoch 36/100\n",
            "118/118 [==============================] - 0s 2ms/step - loss: -10696.3848 - accuracy: 0.1925\n",
            "Epoch 37/100\n",
            "118/118 [==============================] - 0s 2ms/step - loss: -11458.0703 - accuracy: 0.1925\n",
            "Epoch 38/100\n",
            "118/118 [==============================] - 0s 2ms/step - loss: -12252.9404 - accuracy: 0.1925\n",
            "Epoch 39/100\n",
            "118/118 [==============================] - 0s 2ms/step - loss: -13074.8408 - accuracy: 0.1925\n",
            "Epoch 40/100\n",
            "118/118 [==============================] - 0s 2ms/step - loss: -13928.0479 - accuracy: 0.1925\n",
            "Epoch 41/100\n",
            "118/118 [==============================] - 0s 2ms/step - loss: -14809.7725 - accuracy: 0.1925\n",
            "Epoch 42/100\n",
            "118/118 [==============================] - 0s 2ms/step - loss: -15724.4141 - accuracy: 0.1925\n",
            "Epoch 43/100\n",
            "118/118 [==============================] - 0s 2ms/step - loss: -16674.2676 - accuracy: 0.1925\n",
            "Epoch 44/100\n",
            "118/118 [==============================] - 0s 2ms/step - loss: -17658.3281 - accuracy: 0.1925\n",
            "Epoch 45/100\n",
            "118/118 [==============================] - 0s 2ms/step - loss: -18676.6035 - accuracy: 0.1925\n",
            "Epoch 46/100\n",
            "118/118 [==============================] - 0s 3ms/step - loss: -19728.5176 - accuracy: 0.1925\n",
            "Epoch 47/100\n",
            "118/118 [==============================] - 0s 2ms/step - loss: -20808.2637 - accuracy: 0.1925\n",
            "Epoch 48/100\n",
            "118/118 [==============================] - 0s 3ms/step - loss: -21915.9512 - accuracy: 0.1925\n",
            "Epoch 49/100\n",
            "118/118 [==============================] - 0s 3ms/step - loss: -23064.2949 - accuracy: 0.1925\n",
            "Epoch 50/100\n",
            "118/118 [==============================] - 0s 2ms/step - loss: -24246.9141 - accuracy: 0.1925\n",
            "Epoch 51/100\n",
            "118/118 [==============================] - 0s 3ms/step - loss: -25463.6719 - accuracy: 0.1925\n",
            "Epoch 52/100\n",
            "118/118 [==============================] - 0s 3ms/step - loss: -26709.7676 - accuracy: 0.1925\n",
            "Epoch 53/100\n",
            "118/118 [==============================] - 0s 2ms/step - loss: -27997.7344 - accuracy: 0.1925\n",
            "Epoch 54/100\n",
            "118/118 [==============================] - 0s 2ms/step - loss: -29320.8926 - accuracy: 0.1925\n",
            "Epoch 55/100\n",
            "118/118 [==============================] - 0s 2ms/step - loss: -30676.0508 - accuracy: 0.1925\n",
            "Epoch 56/100\n",
            "118/118 [==============================] - 0s 2ms/step - loss: -32064.7500 - accuracy: 0.1925\n",
            "Epoch 57/100\n",
            "118/118 [==============================] - 0s 2ms/step - loss: -33489.8633 - accuracy: 0.1925\n",
            "Epoch 58/100\n",
            "118/118 [==============================] - 0s 2ms/step - loss: -34958.4766 - accuracy: 0.1925\n",
            "Epoch 59/100\n",
            "118/118 [==============================] - 0s 2ms/step - loss: -36466.7266 - accuracy: 0.1925\n",
            "Epoch 60/100\n",
            "118/118 [==============================] - 0s 2ms/step - loss: -38004.9688 - accuracy: 0.1925\n",
            "Epoch 61/100\n",
            "118/118 [==============================] - 0s 2ms/step - loss: -39585.6836 - accuracy: 0.1925\n",
            "Epoch 62/100\n",
            "118/118 [==============================] - 0s 2ms/step - loss: -41209.9414 - accuracy: 0.1925\n",
            "Epoch 63/100\n",
            "118/118 [==============================] - 0s 2ms/step - loss: -42867.5156 - accuracy: 0.1925\n",
            "Epoch 64/100\n",
            "118/118 [==============================] - 0s 2ms/step - loss: -44556.7344 - accuracy: 0.1925\n",
            "Epoch 65/100\n",
            "118/118 [==============================] - 0s 2ms/step - loss: -46292.2734 - accuracy: 0.1925\n",
            "Epoch 66/100\n",
            "118/118 [==============================] - 0s 2ms/step - loss: -48067.0430 - accuracy: 0.1925\n",
            "Epoch 67/100\n",
            "118/118 [==============================] - 0s 2ms/step - loss: -49887.8125 - accuracy: 0.1925\n",
            "Epoch 68/100\n",
            "118/118 [==============================] - 0s 2ms/step - loss: -51743.8672 - accuracy: 0.1925\n",
            "Epoch 69/100\n",
            "118/118 [==============================] - 0s 2ms/step - loss: -53646.6211 - accuracy: 0.1925\n",
            "Epoch 70/100\n",
            "118/118 [==============================] - 0s 2ms/step - loss: -55583.0898 - accuracy: 0.1925\n",
            "Epoch 71/100\n",
            "118/118 [==============================] - 0s 2ms/step - loss: -57559.0664 - accuracy: 0.1925\n",
            "Epoch 72/100\n",
            "118/118 [==============================] - 0s 2ms/step - loss: -59583.3359 - accuracy: 0.1925\n",
            "Epoch 73/100\n",
            "118/118 [==============================] - 0s 2ms/step - loss: -61644.2656 - accuracy: 0.1925\n",
            "Epoch 74/100\n",
            "118/118 [==============================] - 0s 2ms/step - loss: -63737.6289 - accuracy: 0.1925\n",
            "Epoch 75/100\n",
            "118/118 [==============================] - 0s 2ms/step - loss: -65888.6328 - accuracy: 0.1925\n",
            "Epoch 76/100\n",
            "118/118 [==============================] - 0s 2ms/step - loss: -68088.1641 - accuracy: 0.1925\n",
            "Epoch 77/100\n",
            "118/118 [==============================] - 0s 2ms/step - loss: -70329.9141 - accuracy: 0.1925\n",
            "Epoch 78/100\n",
            "118/118 [==============================] - 0s 2ms/step - loss: -72609.7188 - accuracy: 0.1925\n",
            "Epoch 79/100\n",
            "118/118 [==============================] - 0s 2ms/step - loss: -74940.0156 - accuracy: 0.1925\n",
            "Epoch 80/100\n",
            "118/118 [==============================] - 0s 2ms/step - loss: -77295.7344 - accuracy: 0.1925\n",
            "Epoch 81/100\n",
            "118/118 [==============================] - 0s 2ms/step - loss: -79708.9609 - accuracy: 0.1925\n",
            "Epoch 82/100\n",
            "118/118 [==============================] - 0s 2ms/step - loss: -82156.8203 - accuracy: 0.1925\n",
            "Epoch 83/100\n",
            "118/118 [==============================] - 0s 2ms/step - loss: -84656.5547 - accuracy: 0.1925\n",
            "Epoch 84/100\n",
            "118/118 [==============================] - 0s 2ms/step - loss: -87214.6641 - accuracy: 0.1925\n",
            "Epoch 85/100\n",
            "118/118 [==============================] - 0s 2ms/step - loss: -89824.1016 - accuracy: 0.1925\n",
            "Epoch 86/100\n",
            "118/118 [==============================] - 0s 2ms/step - loss: -92472.1172 - accuracy: 0.1925\n",
            "Epoch 87/100\n",
            "118/118 [==============================] - 0s 2ms/step - loss: -95164.6953 - accuracy: 0.1925\n",
            "Epoch 88/100\n",
            "118/118 [==============================] - 0s 2ms/step - loss: -97887.1562 - accuracy: 0.1925\n",
            "Epoch 89/100\n",
            "118/118 [==============================] - 0s 2ms/step - loss: -100667.1875 - accuracy: 0.1925\n",
            "Epoch 90/100\n",
            "118/118 [==============================] - 0s 2ms/step - loss: -103504.7031 - accuracy: 0.1925\n",
            "Epoch 91/100\n",
            "118/118 [==============================] - 0s 2ms/step - loss: -106386.5547 - accuracy: 0.1925\n",
            "Epoch 92/100\n",
            "118/118 [==============================] - 0s 2ms/step - loss: -109319.9375 - accuracy: 0.1925\n",
            "Epoch 93/100\n",
            "118/118 [==============================] - 0s 2ms/step - loss: -112297.3125 - accuracy: 0.1925\n",
            "Epoch 94/100\n",
            "118/118 [==============================] - 0s 2ms/step - loss: -115325.9922 - accuracy: 0.1925\n",
            "Epoch 95/100\n",
            "118/118 [==============================] - 0s 2ms/step - loss: -118420.4766 - accuracy: 0.1925\n",
            "Epoch 96/100\n",
            "118/118 [==============================] - 0s 2ms/step - loss: -121540.7266 - accuracy: 0.1925\n",
            "Epoch 97/100\n",
            "118/118 [==============================] - 0s 2ms/step - loss: -124707.7188 - accuracy: 0.1925\n",
            "Epoch 98/100\n",
            "118/118 [==============================] - 0s 2ms/step - loss: -127947.8906 - accuracy: 0.1925\n",
            "Epoch 99/100\n",
            "118/118 [==============================] - 0s 2ms/step - loss: -131227.8125 - accuracy: 0.1925\n",
            "Epoch 100/100\n",
            "118/118 [==============================] - 0s 3ms/step - loss: -134549.1094 - accuracy: 0.1925\n"
          ]
        },
        {
          "output_type": "execute_result",
          "data": {
            "text/plain": [
              "<keras.callbacks.History at 0x7f4be1949100>"
            ]
          },
          "metadata": {},
          "execution_count": 40
        }
      ]
    },
    {
      "cell_type": "code",
      "source": [
        "ann.summary()"
      ],
      "metadata": {
        "colab": {
          "base_uri": "https://localhost:8080/"
        },
        "id": "Egz6RB-kxJR3",
        "outputId": "e40b1e5f-c4da-407c-ea99-77e94e5d3846"
      },
      "execution_count": 41,
      "outputs": [
        {
          "output_type": "stream",
          "name": "stdout",
          "text": [
            "Model: \"sequential_1\"\n",
            "_________________________________________________________________\n",
            " Layer (type)                Output Shape              Param #   \n",
            "=================================================================\n",
            " dense_3 (Dense)             (None, 6)                 30        \n",
            "                                                                 \n",
            " dense_4 (Dense)             (None, 6)                 42        \n",
            "                                                                 \n",
            " dense_5 (Dense)             (None, 1)                 7         \n",
            "                                                                 \n",
            "=================================================================\n",
            "Total params: 79\n",
            "Trainable params: 79\n",
            "Non-trainable params: 0\n",
            "_________________________________________________________________\n"
          ]
        }
      ]
    },
    {
      "cell_type": "code",
      "source": [
        "y_pred=ann.predict(X_train).astype('int32')"
      ],
      "metadata": {
        "colab": {
          "base_uri": "https://localhost:8080/"
        },
        "id": "210xmlYfxfcP",
        "outputId": "40626ef4-3bb4-46b9-b2c0-4fe5e91bd3df"
      },
      "execution_count": 42,
      "outputs": [
        {
          "output_type": "stream",
          "name": "stdout",
          "text": [
            "118/118 [==============================] - 0s 1ms/step\n"
          ]
        }
      ]
    },
    {
      "cell_type": "code",
      "source": [
        "test_loss, test_accuracy = ann.evaluate(X_test, y_test, verbose=0)\n",
        "print('Test accuracy:', test_accuracy)"
      ],
      "metadata": {
        "colab": {
          "base_uri": "https://localhost:8080/"
        },
        "id": "Fe88i0HIyu6L",
        "outputId": "fc6485df-3094-4dd4-a020-6c72467af55c"
      },
      "execution_count": 43,
      "outputs": [
        {
          "output_type": "stream",
          "name": "stdout",
          "text": [
            "Test accuracy: 0.18639999628067017\n"
          ]
        }
      ]
    },
    {
      "cell_type": "code",
      "source": [
        "import pickle\n",
        "# open a file, where you ant to store the data\n",
        "file = open('humidity_status tarp.pkl', 'wb')\n",
        "\n",
        "# dump information to that file\n",
        "pickle.dump(ann, file)"
      ],
      "metadata": {
        "id": "RuzN5ghS4P5z"
      },
      "execution_count": 45,
      "outputs": []
    }
  ]
}