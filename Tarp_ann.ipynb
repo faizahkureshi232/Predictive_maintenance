{
  "nbformat": 4,
  "nbformat_minor": 0,
  "metadata": {
    "colab": {
      "provenance": []
    },
    "kernelspec": {
      "name": "python3",
      "display_name": "Python 3"
    },
    "language_info": {
      "name": "python"
    }
  },
  "cells": [
    {
      "cell_type": "markdown",
      "source": [
        "##Making the dataset"
      ],
      "metadata": {
        "id": "Y8SMufgEy4j7"
      }
    },
    {
      "cell_type": "code",
      "source": [
        "import pandas as pd\n",
        "import numpy as np"
      ],
      "metadata": {
        "id": "JkaJ2VQuMmEl"
      },
      "execution_count": 10,
      "outputs": []
    },
    {
      "cell_type": "code",
      "source": [
        "dataset = pd.read_csv('dataset.csv')"
      ],
      "metadata": {
        "id": "weTOJyuNLooi"
      },
      "execution_count": 3,
      "outputs": []
    },
    {
      "cell_type": "code",
      "source": [
        "df=pd.DataFrame(dataset)"
      ],
      "metadata": {
        "id": "xHGMR2yaMHh3"
      },
      "execution_count": 5,
      "outputs": []
    },
    {
      "cell_type": "code",
      "source": [
        "df.head()"
      ],
      "metadata": {
        "colab": {
          "base_uri": "https://localhost:8080/",
          "height": 206
        },
        "id": "UQhgY92vMxxT",
        "outputId": "7ae6cd30-069a-4a6d-912e-11dbd54fe912"
      },
      "execution_count": 6,
      "outputs": [
        {
          "output_type": "execute_result",
          "data": {
            "text/plain": [
              "   temperature  humidity  vibrations  speed temperature_status  \\\n",
              "0        35.33     63.21        1.02  59.01             MEDIUM   \n",
              "1        28.82     68.18        1.59  88.59             NORMAL   \n",
              "2        25.76     69.06        0.94  13.40             NORMAL   \n",
              "3        24.53     74.19        1.64  32.83             NORMAL   \n",
              "4        35.45     66.37        1.24   5.95             MEDIUM   \n",
              "\n",
              "  humidity_status vibrations_status speed_status  \n",
              "0          NORMAL            NORMAL          LOW  \n",
              "1             LOW              HIGH         HIGH  \n",
              "2             LOW            NORMAL       NORMAL  \n",
              "3            HIGH              HIGH       NORMAL  \n",
              "4          NORMAL               LOW       NORMAL  "
            ],
            "text/html": [
              "\n",
              "  <div id=\"df-d8b9ebd7-b8c9-441d-8b1f-2ed711deeffe\">\n",
              "    <div class=\"colab-df-container\">\n",
              "      <div>\n",
              "<style scoped>\n",
              "    .dataframe tbody tr th:only-of-type {\n",
              "        vertical-align: middle;\n",
              "    }\n",
              "\n",
              "    .dataframe tbody tr th {\n",
              "        vertical-align: top;\n",
              "    }\n",
              "\n",
              "    .dataframe thead th {\n",
              "        text-align: right;\n",
              "    }\n",
              "</style>\n",
              "<table border=\"1\" class=\"dataframe\">\n",
              "  <thead>\n",
              "    <tr style=\"text-align: right;\">\n",
              "      <th></th>\n",
              "      <th>temperature</th>\n",
              "      <th>humidity</th>\n",
              "      <th>vibrations</th>\n",
              "      <th>speed</th>\n",
              "      <th>temperature_status</th>\n",
              "      <th>humidity_status</th>\n",
              "      <th>vibrations_status</th>\n",
              "      <th>speed_status</th>\n",
              "    </tr>\n",
              "  </thead>\n",
              "  <tbody>\n",
              "    <tr>\n",
              "      <th>0</th>\n",
              "      <td>35.33</td>\n",
              "      <td>63.21</td>\n",
              "      <td>1.02</td>\n",
              "      <td>59.01</td>\n",
              "      <td>MEDIUM</td>\n",
              "      <td>NORMAL</td>\n",
              "      <td>NORMAL</td>\n",
              "      <td>LOW</td>\n",
              "    </tr>\n",
              "    <tr>\n",
              "      <th>1</th>\n",
              "      <td>28.82</td>\n",
              "      <td>68.18</td>\n",
              "      <td>1.59</td>\n",
              "      <td>88.59</td>\n",
              "      <td>NORMAL</td>\n",
              "      <td>LOW</td>\n",
              "      <td>HIGH</td>\n",
              "      <td>HIGH</td>\n",
              "    </tr>\n",
              "    <tr>\n",
              "      <th>2</th>\n",
              "      <td>25.76</td>\n",
              "      <td>69.06</td>\n",
              "      <td>0.94</td>\n",
              "      <td>13.40</td>\n",
              "      <td>NORMAL</td>\n",
              "      <td>LOW</td>\n",
              "      <td>NORMAL</td>\n",
              "      <td>NORMAL</td>\n",
              "    </tr>\n",
              "    <tr>\n",
              "      <th>3</th>\n",
              "      <td>24.53</td>\n",
              "      <td>74.19</td>\n",
              "      <td>1.64</td>\n",
              "      <td>32.83</td>\n",
              "      <td>NORMAL</td>\n",
              "      <td>HIGH</td>\n",
              "      <td>HIGH</td>\n",
              "      <td>NORMAL</td>\n",
              "    </tr>\n",
              "    <tr>\n",
              "      <th>4</th>\n",
              "      <td>35.45</td>\n",
              "      <td>66.37</td>\n",
              "      <td>1.24</td>\n",
              "      <td>5.95</td>\n",
              "      <td>MEDIUM</td>\n",
              "      <td>NORMAL</td>\n",
              "      <td>LOW</td>\n",
              "      <td>NORMAL</td>\n",
              "    </tr>\n",
              "  </tbody>\n",
              "</table>\n",
              "</div>\n",
              "      <button class=\"colab-df-convert\" onclick=\"convertToInteractive('df-d8b9ebd7-b8c9-441d-8b1f-2ed711deeffe')\"\n",
              "              title=\"Convert this dataframe to an interactive table.\"\n",
              "              style=\"display:none;\">\n",
              "        \n",
              "  <svg xmlns=\"http://www.w3.org/2000/svg\" height=\"24px\"viewBox=\"0 0 24 24\"\n",
              "       width=\"24px\">\n",
              "    <path d=\"M0 0h24v24H0V0z\" fill=\"none\"/>\n",
              "    <path d=\"M18.56 5.44l.94 2.06.94-2.06 2.06-.94-2.06-.94-.94-2.06-.94 2.06-2.06.94zm-11 1L8.5 8.5l.94-2.06 2.06-.94-2.06-.94L8.5 2.5l-.94 2.06-2.06.94zm10 10l.94 2.06.94-2.06 2.06-.94-2.06-.94-.94-2.06-.94 2.06-2.06.94z\"/><path d=\"M17.41 7.96l-1.37-1.37c-.4-.4-.92-.59-1.43-.59-.52 0-1.04.2-1.43.59L10.3 9.45l-7.72 7.72c-.78.78-.78 2.05 0 2.83L4 21.41c.39.39.9.59 1.41.59.51 0 1.02-.2 1.41-.59l7.78-7.78 2.81-2.81c.8-.78.8-2.07 0-2.86zM5.41 20L4 18.59l7.72-7.72 1.47 1.35L5.41 20z\"/>\n",
              "  </svg>\n",
              "      </button>\n",
              "      \n",
              "  <style>\n",
              "    .colab-df-container {\n",
              "      display:flex;\n",
              "      flex-wrap:wrap;\n",
              "      gap: 12px;\n",
              "    }\n",
              "\n",
              "    .colab-df-convert {\n",
              "      background-color: #E8F0FE;\n",
              "      border: none;\n",
              "      border-radius: 50%;\n",
              "      cursor: pointer;\n",
              "      display: none;\n",
              "      fill: #1967D2;\n",
              "      height: 32px;\n",
              "      padding: 0 0 0 0;\n",
              "      width: 32px;\n",
              "    }\n",
              "\n",
              "    .colab-df-convert:hover {\n",
              "      background-color: #E2EBFA;\n",
              "      box-shadow: 0px 1px 2px rgba(60, 64, 67, 0.3), 0px 1px 3px 1px rgba(60, 64, 67, 0.15);\n",
              "      fill: #174EA6;\n",
              "    }\n",
              "\n",
              "    [theme=dark] .colab-df-convert {\n",
              "      background-color: #3B4455;\n",
              "      fill: #D2E3FC;\n",
              "    }\n",
              "\n",
              "    [theme=dark] .colab-df-convert:hover {\n",
              "      background-color: #434B5C;\n",
              "      box-shadow: 0px 1px 3px 1px rgba(0, 0, 0, 0.15);\n",
              "      filter: drop-shadow(0px 1px 2px rgba(0, 0, 0, 0.3));\n",
              "      fill: #FFFFFF;\n",
              "    }\n",
              "  </style>\n",
              "\n",
              "      <script>\n",
              "        const buttonEl =\n",
              "          document.querySelector('#df-d8b9ebd7-b8c9-441d-8b1f-2ed711deeffe button.colab-df-convert');\n",
              "        buttonEl.style.display =\n",
              "          google.colab.kernel.accessAllowed ? 'block' : 'none';\n",
              "\n",
              "        async function convertToInteractive(key) {\n",
              "          const element = document.querySelector('#df-d8b9ebd7-b8c9-441d-8b1f-2ed711deeffe');\n",
              "          const dataTable =\n",
              "            await google.colab.kernel.invokeFunction('convertToInteractive',\n",
              "                                                     [key], {});\n",
              "          if (!dataTable) return;\n",
              "\n",
              "          const docLinkHtml = 'Like what you see? Visit the ' +\n",
              "            '<a target=\"_blank\" href=https://colab.research.google.com/notebooks/data_table.ipynb>data table notebook</a>'\n",
              "            + ' to learn more about interactive tables.';\n",
              "          element.innerHTML = '';\n",
              "          dataTable['output_type'] = 'display_data';\n",
              "          await google.colab.output.renderOutput(dataTable, element);\n",
              "          const docLink = document.createElement('div');\n",
              "          docLink.innerHTML = docLinkHtml;\n",
              "          element.appendChild(docLink);\n",
              "        }\n",
              "      </script>\n",
              "    </div>\n",
              "  </div>\n",
              "  "
            ]
          },
          "metadata": {},
          "execution_count": 6
        }
      ]
    },
    {
      "cell_type": "code",
      "source": [
        "df['Issue']=\" \""
      ],
      "metadata": {
        "id": "O4Wi3IUkM11N"
      },
      "execution_count": 9,
      "outputs": []
    },
    {
      "cell_type": "code",
      "source": [
        "n=len(df. index)"
      ],
      "metadata": {
        "id": "devSL-JVRQdQ"
      },
      "execution_count": 14,
      "outputs": []
    },
    {
      "cell_type": "code",
      "source": [
        "print(n)"
      ],
      "metadata": {
        "colab": {
          "base_uri": "https://localhost:8080/"
        },
        "id": "DkiGxu0qRTK8",
        "outputId": "767570e9-0a87-43ef-f150-c766a8fa5361"
      },
      "execution_count": 15,
      "outputs": [
        {
          "output_type": "stream",
          "name": "stdout",
          "text": [
            "5000\n"
          ]
        }
      ]
    },
    {
      "cell_type": "code",
      "source": [
        "\n",
        "for i in range(n):\n",
        "  if (df['temperature_status'][i]==\"NORMAL\" and df['humidity_status'][i]==\"NORMAL\" and df['vibrations_status'][i]==\"NORMAL\" and df['speed_status'][i]==\"NORMAL\" ):\n",
        "    df['Issue']=\"NO\"\n",
        "\n",
        "  elif (df['temperature_status'][i]==\"MEDIUM\" and df['humidity_status'][i]==\"MEDIUM\" and df['vibrations_status'][i]==\"MEDIUM\" and df['speed_status'][i]==\"MEDIUM\" ):\n",
        "    df['Issue']=\"NO\"\n",
        "\n",
        "  else:\n",
        "    df['Issue']=\"YES\"\n"
      ],
      "metadata": {
        "id": "o9lHDheGNEaW"
      },
      "execution_count": 17,
      "outputs": []
    },
    {
      "cell_type": "code",
      "source": [
        "df.head()"
      ],
      "metadata": {
        "colab": {
          "base_uri": "https://localhost:8080/",
          "height": 250
        },
        "id": "1o7OxLsMRid0",
        "outputId": "d42173ef-20e2-4630-d89a-85fbd3109120"
      },
      "execution_count": 18,
      "outputs": [
        {
          "output_type": "execute_result",
          "data": {
            "text/plain": [
              "   temperature  humidity  vibrations  speed temperature_status  \\\n",
              "0        35.33     63.21        1.02  59.01             MEDIUM   \n",
              "1        28.82     68.18        1.59  88.59             NORMAL   \n",
              "2        25.76     69.06        0.94  13.40             NORMAL   \n",
              "3        24.53     74.19        1.64  32.83             NORMAL   \n",
              "4        35.45     66.37        1.24   5.95             MEDIUM   \n",
              "\n",
              "  humidity_status vibrations_status speed_status Issue  \n",
              "0          NORMAL            NORMAL          LOW   YES  \n",
              "1             LOW              HIGH         HIGH   YES  \n",
              "2             LOW            NORMAL       NORMAL   YES  \n",
              "3            HIGH              HIGH       NORMAL   YES  \n",
              "4          NORMAL               LOW       NORMAL   YES  "
            ],
            "text/html": [
              "\n",
              "  <div id=\"df-03b7f4ef-c853-4caf-8f56-ca4141e2f937\">\n",
              "    <div class=\"colab-df-container\">\n",
              "      <div>\n",
              "<style scoped>\n",
              "    .dataframe tbody tr th:only-of-type {\n",
              "        vertical-align: middle;\n",
              "    }\n",
              "\n",
              "    .dataframe tbody tr th {\n",
              "        vertical-align: top;\n",
              "    }\n",
              "\n",
              "    .dataframe thead th {\n",
              "        text-align: right;\n",
              "    }\n",
              "</style>\n",
              "<table border=\"1\" class=\"dataframe\">\n",
              "  <thead>\n",
              "    <tr style=\"text-align: right;\">\n",
              "      <th></th>\n",
              "      <th>temperature</th>\n",
              "      <th>humidity</th>\n",
              "      <th>vibrations</th>\n",
              "      <th>speed</th>\n",
              "      <th>temperature_status</th>\n",
              "      <th>humidity_status</th>\n",
              "      <th>vibrations_status</th>\n",
              "      <th>speed_status</th>\n",
              "      <th>Issue</th>\n",
              "    </tr>\n",
              "  </thead>\n",
              "  <tbody>\n",
              "    <tr>\n",
              "      <th>0</th>\n",
              "      <td>35.33</td>\n",
              "      <td>63.21</td>\n",
              "      <td>1.02</td>\n",
              "      <td>59.01</td>\n",
              "      <td>MEDIUM</td>\n",
              "      <td>NORMAL</td>\n",
              "      <td>NORMAL</td>\n",
              "      <td>LOW</td>\n",
              "      <td>YES</td>\n",
              "    </tr>\n",
              "    <tr>\n",
              "      <th>1</th>\n",
              "      <td>28.82</td>\n",
              "      <td>68.18</td>\n",
              "      <td>1.59</td>\n",
              "      <td>88.59</td>\n",
              "      <td>NORMAL</td>\n",
              "      <td>LOW</td>\n",
              "      <td>HIGH</td>\n",
              "      <td>HIGH</td>\n",
              "      <td>YES</td>\n",
              "    </tr>\n",
              "    <tr>\n",
              "      <th>2</th>\n",
              "      <td>25.76</td>\n",
              "      <td>69.06</td>\n",
              "      <td>0.94</td>\n",
              "      <td>13.40</td>\n",
              "      <td>NORMAL</td>\n",
              "      <td>LOW</td>\n",
              "      <td>NORMAL</td>\n",
              "      <td>NORMAL</td>\n",
              "      <td>YES</td>\n",
              "    </tr>\n",
              "    <tr>\n",
              "      <th>3</th>\n",
              "      <td>24.53</td>\n",
              "      <td>74.19</td>\n",
              "      <td>1.64</td>\n",
              "      <td>32.83</td>\n",
              "      <td>NORMAL</td>\n",
              "      <td>HIGH</td>\n",
              "      <td>HIGH</td>\n",
              "      <td>NORMAL</td>\n",
              "      <td>YES</td>\n",
              "    </tr>\n",
              "    <tr>\n",
              "      <th>4</th>\n",
              "      <td>35.45</td>\n",
              "      <td>66.37</td>\n",
              "      <td>1.24</td>\n",
              "      <td>5.95</td>\n",
              "      <td>MEDIUM</td>\n",
              "      <td>NORMAL</td>\n",
              "      <td>LOW</td>\n",
              "      <td>NORMAL</td>\n",
              "      <td>YES</td>\n",
              "    </tr>\n",
              "  </tbody>\n",
              "</table>\n",
              "</div>\n",
              "      <button class=\"colab-df-convert\" onclick=\"convertToInteractive('df-03b7f4ef-c853-4caf-8f56-ca4141e2f937')\"\n",
              "              title=\"Convert this dataframe to an interactive table.\"\n",
              "              style=\"display:none;\">\n",
              "        \n",
              "  <svg xmlns=\"http://www.w3.org/2000/svg\" height=\"24px\"viewBox=\"0 0 24 24\"\n",
              "       width=\"24px\">\n",
              "    <path d=\"M0 0h24v24H0V0z\" fill=\"none\"/>\n",
              "    <path d=\"M18.56 5.44l.94 2.06.94-2.06 2.06-.94-2.06-.94-.94-2.06-.94 2.06-2.06.94zm-11 1L8.5 8.5l.94-2.06 2.06-.94-2.06-.94L8.5 2.5l-.94 2.06-2.06.94zm10 10l.94 2.06.94-2.06 2.06-.94-2.06-.94-.94-2.06-.94 2.06-2.06.94z\"/><path d=\"M17.41 7.96l-1.37-1.37c-.4-.4-.92-.59-1.43-.59-.52 0-1.04.2-1.43.59L10.3 9.45l-7.72 7.72c-.78.78-.78 2.05 0 2.83L4 21.41c.39.39.9.59 1.41.59.51 0 1.02-.2 1.41-.59l7.78-7.78 2.81-2.81c.8-.78.8-2.07 0-2.86zM5.41 20L4 18.59l7.72-7.72 1.47 1.35L5.41 20z\"/>\n",
              "  </svg>\n",
              "      </button>\n",
              "      \n",
              "  <style>\n",
              "    .colab-df-container {\n",
              "      display:flex;\n",
              "      flex-wrap:wrap;\n",
              "      gap: 12px;\n",
              "    }\n",
              "\n",
              "    .colab-df-convert {\n",
              "      background-color: #E8F0FE;\n",
              "      border: none;\n",
              "      border-radius: 50%;\n",
              "      cursor: pointer;\n",
              "      display: none;\n",
              "      fill: #1967D2;\n",
              "      height: 32px;\n",
              "      padding: 0 0 0 0;\n",
              "      width: 32px;\n",
              "    }\n",
              "\n",
              "    .colab-df-convert:hover {\n",
              "      background-color: #E2EBFA;\n",
              "      box-shadow: 0px 1px 2px rgba(60, 64, 67, 0.3), 0px 1px 3px 1px rgba(60, 64, 67, 0.15);\n",
              "      fill: #174EA6;\n",
              "    }\n",
              "\n",
              "    [theme=dark] .colab-df-convert {\n",
              "      background-color: #3B4455;\n",
              "      fill: #D2E3FC;\n",
              "    }\n",
              "\n",
              "    [theme=dark] .colab-df-convert:hover {\n",
              "      background-color: #434B5C;\n",
              "      box-shadow: 0px 1px 3px 1px rgba(0, 0, 0, 0.15);\n",
              "      filter: drop-shadow(0px 1px 2px rgba(0, 0, 0, 0.3));\n",
              "      fill: #FFFFFF;\n",
              "    }\n",
              "  </style>\n",
              "\n",
              "      <script>\n",
              "        const buttonEl =\n",
              "          document.querySelector('#df-03b7f4ef-c853-4caf-8f56-ca4141e2f937 button.colab-df-convert');\n",
              "        buttonEl.style.display =\n",
              "          google.colab.kernel.accessAllowed ? 'block' : 'none';\n",
              "\n",
              "        async function convertToInteractive(key) {\n",
              "          const element = document.querySelector('#df-03b7f4ef-c853-4caf-8f56-ca4141e2f937');\n",
              "          const dataTable =\n",
              "            await google.colab.kernel.invokeFunction('convertToInteractive',\n",
              "                                                     [key], {});\n",
              "          if (!dataTable) return;\n",
              "\n",
              "          const docLinkHtml = 'Like what you see? Visit the ' +\n",
              "            '<a target=\"_blank\" href=https://colab.research.google.com/notebooks/data_table.ipynb>data table notebook</a>'\n",
              "            + ' to learn more about interactive tables.';\n",
              "          element.innerHTML = '';\n",
              "          dataTable['output_type'] = 'display_data';\n",
              "          await google.colab.output.renderOutput(dataTable, element);\n",
              "          const docLink = document.createElement('div');\n",
              "          docLink.innerHTML = docLinkHtml;\n",
              "          element.appendChild(docLink);\n",
              "        }\n",
              "      </script>\n",
              "    </div>\n",
              "  </div>\n",
              "  "
            ]
          },
          "metadata": {},
          "execution_count": 18
        }
      ]
    },
    {
      "cell_type": "code",
      "source": [
        "df['is_Issue'] = (df.Issue == \"YES\").astype(int)"
      ],
      "metadata": {
        "id": "V2c8Ij1DVLoI"
      },
      "execution_count": 32,
      "outputs": []
    },
    {
      "cell_type": "code",
      "source": [
        "df['is_Issue'].value_counts()"
      ],
      "metadata": {
        "colab": {
          "base_uri": "https://localhost:8080/"
        },
        "id": "cckMrn8PVXMu",
        "outputId": "36c3ece7-8b17-4bb8-d870-0b67ddb327ba"
      },
      "execution_count": 34,
      "outputs": [
        {
          "output_type": "execute_result",
          "data": {
            "text/plain": [
              "1    5000\n",
              "Name: is_Issue, dtype: int64"
            ]
          },
          "metadata": {},
          "execution_count": 34
        }
      ]
    },
    {
      "cell_type": "code",
      "source": [
        "df = df.drop('is_Issue', axis=1)"
      ],
      "metadata": {
        "id": "9juZjiB2YvaV"
      },
      "execution_count": 42,
      "outputs": []
    },
    {
      "cell_type": "code",
      "source": [
        "df.to_csv('DATASET.csv', index=False)"
      ],
      "metadata": {
        "id": "Z45Ga9YxXzR-"
      },
      "execution_count": 44,
      "outputs": []
    },
    {
      "cell_type": "markdown",
      "source": [
        "##**Starting**\n"
      ],
      "metadata": {
        "id": "YIkyWO-ZXrEe"
      }
    },
    {
      "cell_type": "code",
      "source": [
        "import tensorflow as tf"
      ],
      "metadata": {
        "id": "8KPuxtnaXPRn"
      },
      "execution_count": 37,
      "outputs": []
    },
    {
      "cell_type": "code",
      "source": [
        "dataset = pd.read_csv('DATASET.csv')\n"
      ],
      "metadata": {
        "id": "TAlVwJpCXwT2"
      },
      "execution_count": 74,
      "outputs": []
    },
    {
      "cell_type": "code",
      "source": [
        "from sklearn import preprocessing\n",
        "  \n",
        "# label_encoder object knows how to understand word labels.\n",
        "label_encoder = preprocessing.LabelEncoder()\n",
        "  \n",
        "# Encode labels in column 'species'.\n",
        "dataset['Issue']= label_encoder.fit_transform(df['Issue'])"
      ],
      "metadata": {
        "id": "KSo2ZyA3ZLwH"
      },
      "execution_count": 75,
      "outputs": []
    },
    {
      "cell_type": "code",
      "source": [
        "X = dataset.iloc[:, :4].values\n",
        "y = dataset.iloc[:, -1].values"
      ],
      "metadata": {
        "id": "L_d-OiOSZaDc"
      },
      "execution_count": 76,
      "outputs": []
    },
    {
      "cell_type": "code",
      "source": [
        "print(X)"
      ],
      "metadata": {
        "colab": {
          "base_uri": "https://localhost:8080/"
        },
        "id": "QS8vMXEreQTf",
        "outputId": "ba3c42cc-f9a8-41c0-e0e7-cea779b56772"
      },
      "execution_count": 77,
      "outputs": [
        {
          "output_type": "stream",
          "name": "stdout",
          "text": [
            "[[35.33 63.21  1.02 59.01]\n",
            " [28.82 68.18  1.59 88.59]\n",
            " [25.76 69.06  0.94 13.4 ]\n",
            " ...\n",
            " [38.82 74.47  1.35 89.87]\n",
            " [37.79 64.2   1.19 44.12]\n",
            " [35.58 66.29  1.07  8.16]]\n"
          ]
        }
      ]
    },
    {
      "cell_type": "code",
      "source": [
        "print(y)"
      ],
      "metadata": {
        "colab": {
          "base_uri": "https://localhost:8080/"
        },
        "id": "qGOtjJJHZViq",
        "outputId": "4db33fcc-bfbd-422a-fdaf-d9a1f30e59d6"
      },
      "execution_count": 78,
      "outputs": [
        {
          "output_type": "stream",
          "name": "stdout",
          "text": [
            "[0 0 0 ... 0 0 0]\n"
          ]
        }
      ]
    },
    {
      "cell_type": "code",
      "source": [
        "from sklearn.model_selection import train_test_split\n",
        "X_train, X_test, y_train, y_test = train_test_split(X, y, test_size = 0.2, random_state = 0)"
      ],
      "metadata": {
        "id": "VQQ7oBHVaIXv"
      },
      "execution_count": 79,
      "outputs": []
    },
    {
      "cell_type": "markdown",
      "source": [
        "##Building model"
      ],
      "metadata": {
        "id": "N0Nix4m9ZriO"
      }
    },
    {
      "cell_type": "code",
      "source": [
        "ann = tf.keras.models.Sequential()"
      ],
      "metadata": {
        "id": "9ZLPp6tTZrMW"
      },
      "execution_count": 80,
      "outputs": []
    },
    {
      "cell_type": "code",
      "source": [
        "ann.add(tf.keras.layers.Dense(units=6, activation='relu'))\n",
        "ann.add(tf.keras.layers.Dense(units=6, activation='relu'))\n",
        "ann.add(tf.keras.layers.Dense(units=1, activation='sigmoid'))\n"
      ],
      "metadata": {
        "id": "46mBayQwZiXf"
      },
      "execution_count": 81,
      "outputs": []
    },
    {
      "cell_type": "markdown",
      "source": [
        "Compiling"
      ],
      "metadata": {
        "id": "hw4Rl9yiZ1yL"
      }
    },
    {
      "cell_type": "code",
      "source": [
        "ann.compile(optimizer = 'adam', loss = 'binary_crossentropy', metrics = ['accuracy'])"
      ],
      "metadata": {
        "id": "VCukMHf9Z55r"
      },
      "execution_count": 82,
      "outputs": []
    },
    {
      "cell_type": "code",
      "source": [
        "ann.fit(X_train, y_train, batch_size = 32, epochs = 100)"
      ],
      "metadata": {
        "colab": {
          "base_uri": "https://localhost:8080/"
        },
        "id": "Ex9s1V_iZ76X",
        "outputId": "08f916a8-7e15-410d-c574-e483a8446882"
      },
      "execution_count": 84,
      "outputs": [
        {
          "output_type": "stream",
          "name": "stdout",
          "text": [
            "Epoch 1/100\n",
            "125/125 [==============================] - 0s 2ms/step - loss: 4.5300e-11 - accuracy: 1.0000\n",
            "Epoch 2/100\n",
            "125/125 [==============================] - 0s 2ms/step - loss: 4.1417e-11 - accuracy: 1.0000\n",
            "Epoch 3/100\n",
            "125/125 [==============================] - 0s 2ms/step - loss: 3.7992e-11 - accuracy: 1.0000\n",
            "Epoch 4/100\n",
            "125/125 [==============================] - 0s 2ms/step - loss: 3.4965e-11 - accuracy: 1.0000\n",
            "Epoch 5/100\n",
            "125/125 [==============================] - 0s 2ms/step - loss: 3.2263e-11 - accuracy: 1.0000\n",
            "Epoch 6/100\n",
            "125/125 [==============================] - 0s 2ms/step - loss: 2.9846e-11 - accuracy: 1.0000\n",
            "Epoch 7/100\n",
            "125/125 [==============================] - 0s 2ms/step - loss: 2.7659e-11 - accuracy: 1.0000\n",
            "Epoch 8/100\n",
            "125/125 [==============================] - 0s 2ms/step - loss: 2.5698e-11 - accuracy: 1.0000\n",
            "Epoch 9/100\n",
            "125/125 [==============================] - 0s 2ms/step - loss: 2.3924e-11 - accuracy: 1.0000\n",
            "Epoch 10/100\n",
            "125/125 [==============================] - 0s 3ms/step - loss: 2.2321e-11 - accuracy: 1.0000\n",
            "Epoch 11/100\n",
            "125/125 [==============================] - 0s 2ms/step - loss: 2.0865e-11 - accuracy: 1.0000\n",
            "Epoch 12/100\n",
            "125/125 [==============================] - 0s 2ms/step - loss: 1.9542e-11 - accuracy: 1.0000\n",
            "Epoch 13/100\n",
            "125/125 [==============================] - 0s 2ms/step - loss: 1.8325e-11 - accuracy: 1.0000\n",
            "Epoch 14/100\n",
            "125/125 [==============================] - 0s 2ms/step - loss: 1.7216e-11 - accuracy: 1.0000\n",
            "Epoch 15/100\n",
            "125/125 [==============================] - 0s 2ms/step - loss: 1.6198e-11 - accuracy: 1.0000\n",
            "Epoch 16/100\n",
            "125/125 [==============================] - 0s 2ms/step - loss: 1.5263e-11 - accuracy: 1.0000\n",
            "Epoch 17/100\n",
            "125/125 [==============================] - 0s 2ms/step - loss: 1.4403e-11 - accuracy: 1.0000\n",
            "Epoch 18/100\n",
            "125/125 [==============================] - 0s 2ms/step - loss: 1.3612e-11 - accuracy: 1.0000\n",
            "Epoch 19/100\n",
            "125/125 [==============================] - 0s 2ms/step - loss: 1.2882e-11 - accuracy: 1.0000\n",
            "Epoch 20/100\n",
            "125/125 [==============================] - 0s 2ms/step - loss: 1.2204e-11 - accuracy: 1.0000\n",
            "Epoch 21/100\n",
            "125/125 [==============================] - 0s 2ms/step - loss: 1.1578e-11 - accuracy: 1.0000\n",
            "Epoch 22/100\n",
            "125/125 [==============================] - 0s 2ms/step - loss: 1.0995e-11 - accuracy: 1.0000\n",
            "Epoch 23/100\n",
            "125/125 [==============================] - 0s 2ms/step - loss: 1.0454e-11 - accuracy: 1.0000\n",
            "Epoch 24/100\n",
            "125/125 [==============================] - 0s 2ms/step - loss: 9.9530e-12 - accuracy: 1.0000\n",
            "Epoch 25/100\n",
            "125/125 [==============================] - 0s 2ms/step - loss: 9.4847e-12 - accuracy: 1.0000\n",
            "Epoch 26/100\n",
            "125/125 [==============================] - 0s 2ms/step - loss: 9.0486e-12 - accuracy: 1.0000\n",
            "Epoch 27/100\n",
            "125/125 [==============================] - 0s 2ms/step - loss: 8.6399e-12 - accuracy: 1.0000\n",
            "Epoch 28/100\n",
            "125/125 [==============================] - 0s 2ms/step - loss: 8.2579e-12 - accuracy: 1.0000\n",
            "Epoch 29/100\n",
            "125/125 [==============================] - 0s 2ms/step - loss: 7.9009e-12 - accuracy: 1.0000\n",
            "Epoch 30/100\n",
            "125/125 [==============================] - 0s 2ms/step - loss: 7.5657e-12 - accuracy: 1.0000\n",
            "Epoch 31/100\n",
            "125/125 [==============================] - 0s 2ms/step - loss: 7.2530e-12 - accuracy: 1.0000\n",
            "Epoch 32/100\n",
            "125/125 [==============================] - 0s 2ms/step - loss: 6.9580e-12 - accuracy: 1.0000\n",
            "Epoch 33/100\n",
            "125/125 [==============================] - 0s 2ms/step - loss: 6.6801e-12 - accuracy: 1.0000\n",
            "Epoch 34/100\n",
            "125/125 [==============================] - 0s 2ms/step - loss: 6.4203e-12 - accuracy: 1.0000\n",
            "Epoch 35/100\n",
            "125/125 [==============================] - 0s 2ms/step - loss: 6.1749e-12 - accuracy: 1.0000\n",
            "Epoch 36/100\n",
            "125/125 [==============================] - 0s 2ms/step - loss: 5.9440e-12 - accuracy: 1.0000\n",
            "Epoch 37/100\n",
            "125/125 [==============================] - 0s 2ms/step - loss: 5.7259e-12 - accuracy: 1.0000\n",
            "Epoch 38/100\n",
            "125/125 [==============================] - 0s 2ms/step - loss: 5.5205e-12 - accuracy: 1.0000\n",
            "Epoch 39/100\n",
            "125/125 [==============================] - 0s 2ms/step - loss: 5.3269e-12 - accuracy: 1.0000\n",
            "Epoch 40/100\n",
            "125/125 [==============================] - 0s 2ms/step - loss: 5.1437e-12 - accuracy: 1.0000\n",
            "Epoch 41/100\n",
            "125/125 [==============================] - 0s 2ms/step - loss: 4.9708e-12 - accuracy: 1.0000\n",
            "Epoch 42/100\n",
            "125/125 [==============================] - 0s 2ms/step - loss: 4.8072e-12 - accuracy: 1.0000\n",
            "Epoch 43/100\n",
            "125/125 [==============================] - 0s 2ms/step - loss: 4.6523e-12 - accuracy: 1.0000\n",
            "Epoch 44/100\n",
            "125/125 [==============================] - 0s 2ms/step - loss: 4.5051e-12 - accuracy: 1.0000\n",
            "Epoch 45/100\n",
            "125/125 [==============================] - 0s 2ms/step - loss: 4.3650e-12 - accuracy: 1.0000\n",
            "Epoch 46/100\n",
            "125/125 [==============================] - 0s 2ms/step - loss: 4.2319e-12 - accuracy: 1.0000\n",
            "Epoch 47/100\n",
            "125/125 [==============================] - 0s 2ms/step - loss: 4.1054e-12 - accuracy: 1.0000\n",
            "Epoch 48/100\n",
            "125/125 [==============================] - 0s 2ms/step - loss: 3.9853e-12 - accuracy: 1.0000\n",
            "Epoch 49/100\n",
            "125/125 [==============================] - 0s 2ms/step - loss: 3.8712e-12 - accuracy: 1.0000\n",
            "Epoch 50/100\n",
            "125/125 [==============================] - 0s 2ms/step - loss: 3.7622e-12 - accuracy: 1.0000\n",
            "Epoch 51/100\n",
            "125/125 [==============================] - 0s 2ms/step - loss: 3.6590e-12 - accuracy: 1.0000\n",
            "Epoch 52/100\n",
            "125/125 [==============================] - 0s 2ms/step - loss: 3.5600e-12 - accuracy: 1.0000\n",
            "Epoch 53/100\n",
            "125/125 [==============================] - 0s 2ms/step - loss: 3.4657e-12 - accuracy: 1.0000\n",
            "Epoch 54/100\n",
            "125/125 [==============================] - 0s 2ms/step - loss: 3.3759e-12 - accuracy: 1.0000\n",
            "Epoch 55/100\n",
            "125/125 [==============================] - 0s 2ms/step - loss: 3.2902e-12 - accuracy: 1.0000\n",
            "Epoch 56/100\n",
            "125/125 [==============================] - 0s 2ms/step - loss: 3.2082e-12 - accuracy: 1.0000\n",
            "Epoch 57/100\n",
            "125/125 [==============================] - 0s 2ms/step - loss: 3.1298e-12 - accuracy: 1.0000\n",
            "Epoch 58/100\n",
            "125/125 [==============================] - 0s 2ms/step - loss: 3.0547e-12 - accuracy: 1.0000\n",
            "Epoch 59/100\n",
            "125/125 [==============================] - 0s 2ms/step - loss: 2.9829e-12 - accuracy: 1.0000\n",
            "Epoch 60/100\n",
            "125/125 [==============================] - 0s 2ms/step - loss: 2.9139e-12 - accuracy: 1.0000\n",
            "Epoch 61/100\n",
            "125/125 [==============================] - 0s 2ms/step - loss: 2.8480e-12 - accuracy: 1.0000\n",
            "Epoch 62/100\n",
            "125/125 [==============================] - 0s 2ms/step - loss: 2.7846e-12 - accuracy: 1.0000\n",
            "Epoch 63/100\n",
            "125/125 [==============================] - 0s 2ms/step - loss: 2.7239e-12 - accuracy: 1.0000\n",
            "Epoch 64/100\n",
            "125/125 [==============================] - 0s 2ms/step - loss: 2.6655e-12 - accuracy: 1.0000\n",
            "Epoch 65/100\n",
            "125/125 [==============================] - 0s 3ms/step - loss: 2.6092e-12 - accuracy: 1.0000\n",
            "Epoch 66/100\n",
            "125/125 [==============================] - 0s 2ms/step - loss: 2.5552e-12 - accuracy: 1.0000\n",
            "Epoch 67/100\n",
            "125/125 [==============================] - 0s 2ms/step - loss: 2.5032e-12 - accuracy: 1.0000\n",
            "Epoch 68/100\n",
            "125/125 [==============================] - 0s 2ms/step - loss: 2.4532e-12 - accuracy: 1.0000\n",
            "Epoch 69/100\n",
            "125/125 [==============================] - 0s 2ms/step - loss: 2.4049e-12 - accuracy: 1.0000\n",
            "Epoch 70/100\n",
            "125/125 [==============================] - 0s 2ms/step - loss: 2.3582e-12 - accuracy: 1.0000\n",
            "Epoch 71/100\n",
            "125/125 [==============================] - 0s 2ms/step - loss: 2.3132e-12 - accuracy: 1.0000\n",
            "Epoch 72/100\n",
            "125/125 [==============================] - 0s 2ms/step - loss: 2.2697e-12 - accuracy: 1.0000\n",
            "Epoch 73/100\n",
            "125/125 [==============================] - 0s 2ms/step - loss: 2.2279e-12 - accuracy: 1.0000\n",
            "Epoch 74/100\n",
            "125/125 [==============================] - 0s 2ms/step - loss: 2.1875e-12 - accuracy: 1.0000\n",
            "Epoch 75/100\n",
            "125/125 [==============================] - 0s 2ms/step - loss: 2.1485e-12 - accuracy: 1.0000\n",
            "Epoch 76/100\n",
            "125/125 [==============================] - 0s 2ms/step - loss: 2.1107e-12 - accuracy: 1.0000\n",
            "Epoch 77/100\n",
            "125/125 [==============================] - 0s 2ms/step - loss: 2.0742e-12 - accuracy: 1.0000\n",
            "Epoch 78/100\n",
            "125/125 [==============================] - 0s 2ms/step - loss: 2.0388e-12 - accuracy: 1.0000\n",
            "Epoch 79/100\n",
            "125/125 [==============================] - 0s 2ms/step - loss: 2.0048e-12 - accuracy: 1.0000\n",
            "Epoch 80/100\n",
            "125/125 [==============================] - 0s 2ms/step - loss: 1.9717e-12 - accuracy: 1.0000\n",
            "Epoch 81/100\n",
            "125/125 [==============================] - 0s 2ms/step - loss: 1.9395e-12 - accuracy: 1.0000\n",
            "Epoch 82/100\n",
            "125/125 [==============================] - 0s 2ms/step - loss: 1.9084e-12 - accuracy: 1.0000\n",
            "Epoch 83/100\n",
            "125/125 [==============================] - 0s 2ms/step - loss: 1.8783e-12 - accuracy: 1.0000\n",
            "Epoch 84/100\n",
            "125/125 [==============================] - 0s 2ms/step - loss: 1.8491e-12 - accuracy: 1.0000\n",
            "Epoch 85/100\n",
            "125/125 [==============================] - 0s 2ms/step - loss: 1.8207e-12 - accuracy: 1.0000\n",
            "Epoch 86/100\n",
            "125/125 [==============================] - 0s 2ms/step - loss: 1.7932e-12 - accuracy: 1.0000\n",
            "Epoch 87/100\n",
            "125/125 [==============================] - 0s 2ms/step - loss: 1.7665e-12 - accuracy: 1.0000\n",
            "Epoch 88/100\n",
            "125/125 [==============================] - 0s 2ms/step - loss: 1.7404e-12 - accuracy: 1.0000\n",
            "Epoch 89/100\n",
            "125/125 [==============================] - 0s 2ms/step - loss: 1.7153e-12 - accuracy: 1.0000\n",
            "Epoch 90/100\n",
            "125/125 [==============================] - 0s 2ms/step - loss: 1.6908e-12 - accuracy: 1.0000\n",
            "Epoch 91/100\n",
            "125/125 [==============================] - 0s 2ms/step - loss: 1.6669e-12 - accuracy: 1.0000\n",
            "Epoch 92/100\n",
            "125/125 [==============================] - 0s 2ms/step - loss: 1.6437e-12 - accuracy: 1.0000\n",
            "Epoch 93/100\n",
            "125/125 [==============================] - 0s 2ms/step - loss: 1.6211e-12 - accuracy: 1.0000\n",
            "Epoch 94/100\n",
            "125/125 [==============================] - 0s 2ms/step - loss: 1.5991e-12 - accuracy: 1.0000\n",
            "Epoch 95/100\n",
            "125/125 [==============================] - 0s 2ms/step - loss: 1.5777e-12 - accuracy: 1.0000\n",
            "Epoch 96/100\n",
            "125/125 [==============================] - 0s 2ms/step - loss: 1.5568e-12 - accuracy: 1.0000\n",
            "Epoch 97/100\n",
            "125/125 [==============================] - 0s 2ms/step - loss: 1.5365e-12 - accuracy: 1.0000\n",
            "Epoch 98/100\n",
            "125/125 [==============================] - 0s 2ms/step - loss: 1.5166e-12 - accuracy: 1.0000\n",
            "Epoch 99/100\n",
            "125/125 [==============================] - 0s 2ms/step - loss: 1.4973e-12 - accuracy: 1.0000\n",
            "Epoch 100/100\n",
            "125/125 [==============================] - 0s 2ms/step - loss: 1.4784e-12 - accuracy: 1.0000\n"
          ]
        },
        {
          "output_type": "execute_result",
          "data": {
            "text/plain": [
              "<keras.callbacks.History at 0x7f29e84b9eb0>"
            ]
          },
          "metadata": {},
          "execution_count": 84
        }
      ]
    },
    {
      "cell_type": "code",
      "source": [
        "ann.summary()"
      ],
      "metadata": {
        "colab": {
          "base_uri": "https://localhost:8080/"
        },
        "id": "Egz6RB-kxJR3",
        "outputId": "6c39e305-efcb-4c71-fdc3-4e0b0ad1a9fb"
      },
      "execution_count": 93,
      "outputs": [
        {
          "output_type": "stream",
          "name": "stdout",
          "text": [
            "Model: \"sequential_2\"\n",
            "_________________________________________________________________\n",
            " Layer (type)                Output Shape              Param #   \n",
            "=================================================================\n",
            " dense_6 (Dense)             (None, 6)                 30        \n",
            "                                                                 \n",
            " dense_7 (Dense)             (None, 6)                 42        \n",
            "                                                                 \n",
            " dense_8 (Dense)             (None, 1)                 7         \n",
            "                                                                 \n",
            "=================================================================\n",
            "Total params: 79\n",
            "Trainable params: 79\n",
            "Non-trainable params: 0\n",
            "_________________________________________________________________\n"
          ]
        }
      ]
    },
    {
      "cell_type": "code",
      "source": [
        "y_pred=ann.predict(X_train).astype('int32')"
      ],
      "metadata": {
        "colab": {
          "base_uri": "https://localhost:8080/"
        },
        "id": "210xmlYfxfcP",
        "outputId": "715fd17c-3596-4199-87b1-b9827a95e1a3"
      },
      "execution_count": 94,
      "outputs": [
        {
          "output_type": "stream",
          "name": "stdout",
          "text": [
            "125/125 [==============================] - 0s 3ms/step\n"
          ]
        }
      ]
    },
    {
      "cell_type": "code",
      "source": [
        "test_loss, test_accuracy = ann.evaluate(X_test, y_test, verbose=0)\n",
        "print('Test accuracy:', test_accuracy)"
      ],
      "metadata": {
        "colab": {
          "base_uri": "https://localhost:8080/"
        },
        "id": "Fe88i0HIyu6L",
        "outputId": "a5ae82a3-1790-4561-d54e-9e64cbe8d399"
      },
      "execution_count": 102,
      "outputs": [
        {
          "output_type": "stream",
          "name": "stdout",
          "text": [
            "Test accuracy: 1.0\n"
          ]
        }
      ]
    },
    {
      "cell_type": "code",
      "source": [
        "import pickle\n",
        "# open a file, where you ant to store the data\n",
        "file = open('Tarp ann.pkl', 'wb')\n",
        "\n",
        "# dump information to that file\n",
        "pickle.dump(ann, file)"
      ],
      "metadata": {
        "colab": {
          "base_uri": "https://localhost:8080/"
        },
        "id": "RuzN5ghS4P5z",
        "outputId": "34ad0e13-de3f-48bd-bd66-789365cdfc64"
      },
      "execution_count": 105,
      "outputs": [
        {
          "output_type": "stream",
          "name": "stdout",
          "text": [
            "Keras weights file (<HDF5 file \"variables.h5\" (mode r+)>) saving:\n",
            "...layers\n",
            "......dense\n",
            ".........vars\n",
            "............0\n",
            "............1\n",
            "......dense_1\n",
            ".........vars\n",
            "............0\n",
            "............1\n",
            "......dense_2\n",
            ".........vars\n",
            "............0\n",
            "............1\n",
            "...metrics\n",
            "......mean\n",
            ".........vars\n",
            "............0\n",
            "............1\n",
            "......mean_metric_wrapper\n",
            ".........vars\n",
            "............0\n",
            "............1\n",
            "...optimizer\n",
            "......vars\n",
            ".........0\n",
            ".........1\n",
            ".........10\n",
            ".........11\n",
            ".........12\n",
            ".........2\n",
            ".........3\n",
            ".........4\n",
            ".........5\n",
            ".........6\n",
            ".........7\n",
            ".........8\n",
            ".........9\n",
            "...vars\n",
            "Keras model archive saving:\n",
            "File Name                                             Modified             Size\n",
            "metadata.json                                  2023-03-28 06:22:34           64\n",
            "config.json                                    2023-03-28 06:22:34         1793\n",
            "variables.h5                                   2023-03-28 06:22:34        25088\n"
          ]
        }
      ]
    }
  ]
}