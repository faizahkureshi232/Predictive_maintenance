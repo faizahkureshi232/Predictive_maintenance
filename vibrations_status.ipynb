{
  "nbformat": 4,
  "nbformat_minor": 0,
  "metadata": {
    "colab": {
      "provenance": []
    },
    "kernelspec": {
      "name": "python3",
      "display_name": "Python 3"
    },
    "language_info": {
      "name": "python"
    }
  },
  "cells": [
    {
      "cell_type": "code",
      "execution_count": 46,
      "metadata": {
        "id": "hMFC16-_6kgz"
      },
      "outputs": [],
      "source": [
        "import numpy as np\n",
        "import matplotlib.pyplot as plt\n",
        "import pandas as pd\n",
        "from sklearn.preprocessing import LabelEncoder\n",
        "from sklearn.model_selection import train_test_split\n",
        "from sklearn import metrics\n",
        "from sklearn.metrics import confusion_matrix, accuracy_score\n",
        "from sklearn.neighbors import KNeighborsClassifier\n",
        "from sklearn.preprocessing import StandardScaler"
      ]
    },
    {
      "cell_type": "code",
      "source": [
        "dataset = pd.read_csv('dataset.csv')"
      ],
      "metadata": {
        "id": "PPjjdX63pS4N"
      },
      "execution_count": 47,
      "outputs": []
    },
    {
      "cell_type": "markdown",
      "source": [
        "##Getting target and features values from dataset"
      ],
      "metadata": {
        "id": "tnB6WiwapWcl"
      }
    },
    {
      "cell_type": "code",
      "source": [
        "def split(b,dataset):\n",
        "  X = dataset.iloc[:, :-4].values\n",
        "  y = dataset[b]\n",
        "  return X,y"
      ],
      "metadata": {
        "id": "CJEFWt5J6qRw"
      },
      "execution_count": 48,
      "outputs": []
    },
    {
      "cell_type": "markdown",
      "source": [
        "##Lable Encoding"
      ],
      "metadata": {
        "id": "lVzfRjcZe2Hl"
      }
    },
    {
      "cell_type": "code",
      "source": [
        "def lableencoding(y):\n",
        "  le = LabelEncoder()\n",
        "  encoded_data = le.fit_transform(Y)\n",
        "\n",
        "  # Get the classes and their corresponding numerical values\n",
        "  classes = le.classes_\n",
        "  numerical_values = le.transform(classes)\n",
        "\n",
        "  # Print the classes and their corresponding numerical values\n",
        "  for i in range(len(classes)):\n",
        "      print(f'{classes[i]}: {numerical_values[i]}')\n",
        "  \n",
        "  print()\n",
        "  return encoded_data\n",
        "  \n"
      ],
      "metadata": {
        "id": "m9yN7Bvaf8jO"
      },
      "execution_count": 49,
      "outputs": []
    },
    {
      "cell_type": "markdown",
      "source": [
        "##Splitting Of Dataset"
      ],
      "metadata": {
        "id": "4VoM23-5e5XH"
      }
    },
    {
      "cell_type": "code",
      "source": [
        "def traintestsplit(X,y):\n",
        "  X_train, X_test, y_train, y_test = train_test_split(X, y, test_size = 0.25, random_state = 0)\n",
        "  #feature scaling\n",
        "  sc = StandardScaler()\n",
        "  X_train = sc.fit_transform(X_train)\n",
        "  X_test = sc.transform(X_test)\n",
        "  return X_train, X_test, y_train, y_test"
      ],
      "metadata": {
        "id": "TsRMf6KJMGRY"
      },
      "execution_count": 50,
      "outputs": []
    },
    {
      "cell_type": "markdown",
      "source": [
        "##Model Building"
      ],
      "metadata": {
        "id": "FczszR8Dzawx"
      }
    },
    {
      "cell_type": "code",
      "source": [
        "import tensorflow as tf"
      ],
      "metadata": {
        "id": "YDWD6nN7YL6W"
      },
      "execution_count": 51,
      "outputs": []
    },
    {
      "cell_type": "code",
      "source": [
        "b='vibrations_status'"
      ],
      "metadata": {
        "id": "KYyx1IVdX6zD"
      },
      "execution_count": 52,
      "outputs": []
    },
    {
      "cell_type": "code",
      "source": [
        "X,Y=split(b,dataset)"
      ],
      "metadata": {
        "id": "J_sZTzUMXEQ6"
      },
      "execution_count": 53,
      "outputs": []
    },
    {
      "cell_type": "code",
      "source": [
        "y=lableencoding(Y)"
      ],
      "metadata": {
        "colab": {
          "base_uri": "https://localhost:8080/"
        },
        "id": "61cWrxNqXK5H",
        "outputId": "a1ab279f-71b3-4571-d981-2aad85b80730"
      },
      "execution_count": 54,
      "outputs": [
        {
          "output_type": "stream",
          "name": "stdout",
          "text": [
            "HIGH: 0\n",
            "LOW: 1\n",
            "MEDIUM: 2\n",
            "NORMAL: 3\n",
            "\n"
          ]
        }
      ]
    },
    {
      "cell_type": "code",
      "source": [
        "X_train, X_test, y_train, y_test=traintestsplit(X,y)"
      ],
      "metadata": {
        "id": "CljtXOcV1lBg"
      },
      "execution_count": 55,
      "outputs": []
    },
    {
      "cell_type": "code",
      "source": [
        "ann = tf.keras.models.Sequential()"
      ],
      "metadata": {
        "id": "9ZLPp6tTZrMW"
      },
      "execution_count": 56,
      "outputs": []
    },
    {
      "cell_type": "code",
      "source": [
        "ann.add(tf.keras.layers.Dense(units=6, activation='relu'))\n",
        "ann.add(tf.keras.layers.Dense(units=6, activation='relu'))\n",
        "ann.add(tf.keras.layers.Dense(units=1, activation='sigmoid'))\n"
      ],
      "metadata": {
        "id": "46mBayQwZiXf"
      },
      "execution_count": 57,
      "outputs": []
    },
    {
      "cell_type": "markdown",
      "source": [
        "Compiling"
      ],
      "metadata": {
        "id": "hw4Rl9yiZ1yL"
      }
    },
    {
      "cell_type": "code",
      "source": [
        "ann.compile(optimizer = 'adam', loss = 'binary_crossentropy', metrics = ['accuracy'])"
      ],
      "metadata": {
        "id": "VCukMHf9Z55r"
      },
      "execution_count": 58,
      "outputs": []
    },
    {
      "cell_type": "code",
      "source": [
        "ann.fit(X_train, y_train, batch_size = 32, epochs = 100)"
      ],
      "metadata": {
        "colab": {
          "base_uri": "https://localhost:8080/"
        },
        "id": "Ex9s1V_iZ76X",
        "outputId": "3ea91d64-4428-47ee-891e-2b28ca518c6b"
      },
      "execution_count": 59,
      "outputs": [
        {
          "output_type": "stream",
          "name": "stdout",
          "text": [
            "Epoch 1/100\n",
            "118/118 [==============================] - 1s 2ms/step - loss: -0.4968 - accuracy: 0.2437\n",
            "Epoch 2/100\n",
            "118/118 [==============================] - 0s 2ms/step - loss: -2.3307 - accuracy: 0.2421\n",
            "Epoch 3/100\n",
            "118/118 [==============================] - 0s 2ms/step - loss: -5.5585 - accuracy: 0.2421\n",
            "Epoch 4/100\n",
            "118/118 [==============================] - 0s 2ms/step - loss: -11.5737 - accuracy: 0.2421\n",
            "Epoch 5/100\n",
            "118/118 [==============================] - 0s 2ms/step - loss: -21.9201 - accuracy: 0.2421\n",
            "Epoch 6/100\n",
            "118/118 [==============================] - 0s 2ms/step - loss: -38.2222 - accuracy: 0.2437\n",
            "Epoch 7/100\n",
            "118/118 [==============================] - 0s 2ms/step - loss: -61.5959 - accuracy: 0.2651\n",
            "Epoch 8/100\n",
            "118/118 [==============================] - 0s 2ms/step - loss: -93.2558 - accuracy: 0.2840\n",
            "Epoch 9/100\n",
            "118/118 [==============================] - 0s 2ms/step - loss: -133.8130 - accuracy: 0.3013\n",
            "Epoch 10/100\n",
            "118/118 [==============================] - 0s 2ms/step - loss: -183.6869 - accuracy: 0.3203\n",
            "Epoch 11/100\n",
            "118/118 [==============================] - 0s 2ms/step - loss: -243.9296 - accuracy: 0.3285\n",
            "Epoch 12/100\n",
            "118/118 [==============================] - 0s 2ms/step - loss: -315.1380 - accuracy: 0.3427\n",
            "Epoch 13/100\n",
            "118/118 [==============================] - 0s 2ms/step - loss: -396.6897 - accuracy: 0.3499\n",
            "Epoch 14/100\n",
            "118/118 [==============================] - 0s 2ms/step - loss: -489.7643 - accuracy: 0.3568\n",
            "Epoch 15/100\n",
            "118/118 [==============================] - 0s 2ms/step - loss: -594.1323 - accuracy: 0.3621\n",
            "Epoch 16/100\n",
            "118/118 [==============================] - 0s 2ms/step - loss: -710.9429 - accuracy: 0.3667\n",
            "Epoch 17/100\n",
            "118/118 [==============================] - 0s 2ms/step - loss: -840.2946 - accuracy: 0.3699\n",
            "Epoch 18/100\n",
            "118/118 [==============================] - 0s 2ms/step - loss: -982.3293 - accuracy: 0.3752\n",
            "Epoch 19/100\n",
            "118/118 [==============================] - 0s 2ms/step - loss: -1137.6189 - accuracy: 0.3784\n",
            "Epoch 20/100\n",
            "118/118 [==============================] - 0s 2ms/step - loss: -1306.4912 - accuracy: 0.3824\n",
            "Epoch 21/100\n",
            "118/118 [==============================] - 0s 2ms/step - loss: -1488.9692 - accuracy: 0.3835\n",
            "Epoch 22/100\n",
            "118/118 [==============================] - 0s 2ms/step - loss: -1685.3184 - accuracy: 0.3861\n",
            "Epoch 23/100\n",
            "118/118 [==============================] - 0s 2ms/step - loss: -1896.4615 - accuracy: 0.3885\n",
            "Epoch 24/100\n",
            "118/118 [==============================] - 0s 2ms/step - loss: -2119.9187 - accuracy: 0.3907\n",
            "Epoch 25/100\n",
            "118/118 [==============================] - 0s 2ms/step - loss: -2359.3442 - accuracy: 0.3925\n",
            "Epoch 26/100\n",
            "118/118 [==============================] - 0s 2ms/step - loss: -2613.7595 - accuracy: 0.3939\n",
            "Epoch 27/100\n",
            "118/118 [==============================] - 0s 2ms/step - loss: -2883.6404 - accuracy: 0.3949\n",
            "Epoch 28/100\n",
            "118/118 [==============================] - 0s 2ms/step - loss: -3166.7402 - accuracy: 0.3960\n",
            "Epoch 29/100\n",
            "118/118 [==============================] - 0s 3ms/step - loss: -3463.9019 - accuracy: 0.3979\n",
            "Epoch 30/100\n",
            "118/118 [==============================] - 0s 3ms/step - loss: -3776.8596 - accuracy: 0.3984\n",
            "Epoch 31/100\n",
            "118/118 [==============================] - 0s 3ms/step - loss: -4105.2451 - accuracy: 0.4003\n",
            "Epoch 32/100\n",
            "118/118 [==============================] - 0s 2ms/step - loss: -4450.1050 - accuracy: 0.4029\n",
            "Epoch 33/100\n",
            "118/118 [==============================] - 0s 2ms/step - loss: -4808.8579 - accuracy: 0.4040\n",
            "Epoch 34/100\n",
            "118/118 [==============================] - 0s 2ms/step - loss: -5184.7295 - accuracy: 0.4051\n",
            "Epoch 35/100\n",
            "118/118 [==============================] - 0s 3ms/step - loss: -5579.4946 - accuracy: 0.4075\n",
            "Epoch 36/100\n",
            "118/118 [==============================] - 0s 3ms/step - loss: -5987.0879 - accuracy: 0.4075\n",
            "Epoch 37/100\n",
            "118/118 [==============================] - 0s 2ms/step - loss: -6411.4893 - accuracy: 0.4091\n",
            "Epoch 38/100\n",
            "118/118 [==============================] - 0s 2ms/step - loss: -6854.7925 - accuracy: 0.4088\n",
            "Epoch 39/100\n",
            "118/118 [==============================] - 0s 2ms/step - loss: -7313.9146 - accuracy: 0.4112\n",
            "Epoch 40/100\n",
            "118/118 [==============================] - 0s 2ms/step - loss: -7793.8613 - accuracy: 0.4123\n",
            "Epoch 41/100\n",
            "118/118 [==============================] - 0s 2ms/step - loss: -8285.1875 - accuracy: 0.4139\n",
            "Epoch 42/100\n",
            "118/118 [==============================] - 0s 2ms/step - loss: -8799.0078 - accuracy: 0.4139\n",
            "Epoch 43/100\n",
            "118/118 [==============================] - 0s 2ms/step - loss: -9330.0332 - accuracy: 0.4147\n",
            "Epoch 44/100\n",
            "118/118 [==============================] - 0s 2ms/step - loss: -9876.0244 - accuracy: 0.4157\n",
            "Epoch 45/100\n",
            "118/118 [==============================] - 0s 2ms/step - loss: -10440.9297 - accuracy: 0.4163\n",
            "Epoch 46/100\n",
            "118/118 [==============================] - 0s 2ms/step - loss: -11024.8721 - accuracy: 0.4168\n",
            "Epoch 47/100\n",
            "118/118 [==============================] - 0s 2ms/step - loss: -11624.3398 - accuracy: 0.4181\n",
            "Epoch 48/100\n",
            "118/118 [==============================] - 0s 2ms/step - loss: -12244.7627 - accuracy: 0.4192\n",
            "Epoch 49/100\n",
            "118/118 [==============================] - 0s 2ms/step - loss: -12886.2061 - accuracy: 0.4195\n",
            "Epoch 50/100\n",
            "118/118 [==============================] - 0s 2ms/step - loss: -13542.0898 - accuracy: 0.4197\n",
            "Epoch 51/100\n",
            "118/118 [==============================] - 0s 2ms/step - loss: -14219.9961 - accuracy: 0.4197\n",
            "Epoch 52/100\n",
            "118/118 [==============================] - 0s 2ms/step - loss: -14912.6406 - accuracy: 0.4200\n",
            "Epoch 53/100\n",
            "118/118 [==============================] - 0s 2ms/step - loss: -15629.9307 - accuracy: 0.4200\n",
            "Epoch 54/100\n",
            "118/118 [==============================] - 0s 2ms/step - loss: -16367.2373 - accuracy: 0.4211\n",
            "Epoch 55/100\n",
            "118/118 [==============================] - 0s 2ms/step - loss: -17121.0977 - accuracy: 0.4213\n",
            "Epoch 56/100\n",
            "118/118 [==============================] - 0s 2ms/step - loss: -17895.1797 - accuracy: 0.4219\n",
            "Epoch 57/100\n",
            "118/118 [==============================] - 0s 2ms/step - loss: -18686.7500 - accuracy: 0.4221\n",
            "Epoch 58/100\n",
            "118/118 [==============================] - 0s 2ms/step - loss: -19498.9629 - accuracy: 0.4224\n",
            "Epoch 59/100\n",
            "118/118 [==============================] - 0s 2ms/step - loss: -20329.4043 - accuracy: 0.4232\n",
            "Epoch 60/100\n",
            "118/118 [==============================] - 0s 2ms/step - loss: -21179.7207 - accuracy: 0.4235\n",
            "Epoch 61/100\n",
            "118/118 [==============================] - 0s 2ms/step - loss: -22056.5723 - accuracy: 0.4248\n",
            "Epoch 62/100\n",
            "118/118 [==============================] - 0s 2ms/step - loss: -22955.9492 - accuracy: 0.4251\n",
            "Epoch 63/100\n",
            "118/118 [==============================] - 0s 2ms/step - loss: -23870.3750 - accuracy: 0.4256\n",
            "Epoch 64/100\n",
            "118/118 [==============================] - 0s 2ms/step - loss: -24810.0020 - accuracy: 0.4253\n",
            "Epoch 65/100\n",
            "118/118 [==============================] - 0s 2ms/step - loss: -25776.2930 - accuracy: 0.4261\n",
            "Epoch 66/100\n",
            "118/118 [==============================] - 0s 2ms/step - loss: -26757.8691 - accuracy: 0.4259\n",
            "Epoch 67/100\n",
            "118/118 [==============================] - 0s 2ms/step - loss: -27767.9434 - accuracy: 0.4261\n",
            "Epoch 68/100\n",
            "118/118 [==============================] - 0s 2ms/step - loss: -28795.5527 - accuracy: 0.4267\n",
            "Epoch 69/100\n",
            "118/118 [==============================] - 0s 2ms/step - loss: -29844.3223 - accuracy: 0.4275\n",
            "Epoch 70/100\n",
            "118/118 [==============================] - 0s 2ms/step - loss: -30915.0781 - accuracy: 0.4280\n",
            "Epoch 71/100\n",
            "118/118 [==============================] - 0s 2ms/step - loss: -32011.1836 - accuracy: 0.4285\n",
            "Epoch 72/100\n",
            "118/118 [==============================] - 0s 2ms/step - loss: -33133.0273 - accuracy: 0.4291\n",
            "Epoch 73/100\n",
            "118/118 [==============================] - 0s 2ms/step - loss: -34276.2031 - accuracy: 0.4291\n",
            "Epoch 74/100\n",
            "118/118 [==============================] - 0s 2ms/step - loss: -35449.9531 - accuracy: 0.4291\n",
            "Epoch 75/100\n",
            "118/118 [==============================] - 0s 2ms/step - loss: -36647.7109 - accuracy: 0.4291\n",
            "Epoch 76/100\n",
            "118/118 [==============================] - 0s 2ms/step - loss: -37875.9102 - accuracy: 0.4299\n",
            "Epoch 77/100\n",
            "118/118 [==============================] - 0s 2ms/step - loss: -39117.4492 - accuracy: 0.4299\n",
            "Epoch 78/100\n",
            "118/118 [==============================] - 0s 2ms/step - loss: -40380.5430 - accuracy: 0.4304\n",
            "Epoch 79/100\n",
            "118/118 [==============================] - 0s 2ms/step - loss: -41661.2891 - accuracy: 0.4309\n",
            "Epoch 80/100\n",
            "118/118 [==============================] - 0s 2ms/step - loss: -42967.3164 - accuracy: 0.4309\n",
            "Epoch 81/100\n",
            "118/118 [==============================] - 0s 2ms/step - loss: -44310.9648 - accuracy: 0.4309\n",
            "Epoch 82/100\n",
            "118/118 [==============================] - 0s 2ms/step - loss: -45676.6406 - accuracy: 0.4312\n",
            "Epoch 83/100\n",
            "118/118 [==============================] - 0s 2ms/step - loss: -47064.0820 - accuracy: 0.4315\n",
            "Epoch 84/100\n",
            "118/118 [==============================] - 0s 2ms/step - loss: -48475.5586 - accuracy: 0.4317\n",
            "Epoch 85/100\n",
            "118/118 [==============================] - 0s 2ms/step - loss: -49915.2500 - accuracy: 0.4323\n",
            "Epoch 86/100\n",
            "118/118 [==============================] - 0s 2ms/step - loss: -51389.9062 - accuracy: 0.4328\n",
            "Epoch 87/100\n",
            "118/118 [==============================] - 0s 3ms/step - loss: -52885.4062 - accuracy: 0.4328\n",
            "Epoch 88/100\n",
            "118/118 [==============================] - 0s 3ms/step - loss: -54409.5742 - accuracy: 0.4333\n",
            "Epoch 89/100\n",
            "118/118 [==============================] - 0s 2ms/step - loss: -55958.1953 - accuracy: 0.4331\n",
            "Epoch 90/100\n",
            "118/118 [==============================] - 0s 3ms/step - loss: -57534.0430 - accuracy: 0.4339\n",
            "Epoch 91/100\n",
            "118/118 [==============================] - 0s 2ms/step - loss: -59135.1289 - accuracy: 0.4339\n",
            "Epoch 92/100\n",
            "118/118 [==============================] - 0s 2ms/step - loss: -60763.0430 - accuracy: 0.4339\n",
            "Epoch 93/100\n",
            "118/118 [==============================] - 0s 2ms/step - loss: -62419.7578 - accuracy: 0.4344\n",
            "Epoch 94/100\n",
            "118/118 [==============================] - 0s 2ms/step - loss: -64102.1484 - accuracy: 0.4344\n",
            "Epoch 95/100\n",
            "118/118 [==============================] - 0s 2ms/step - loss: -65810.2031 - accuracy: 0.4349\n",
            "Epoch 96/100\n",
            "118/118 [==============================] - 0s 2ms/step - loss: -67537.4375 - accuracy: 0.4349\n",
            "Epoch 97/100\n",
            "118/118 [==============================] - 0s 2ms/step - loss: -69295.2812 - accuracy: 0.4352\n",
            "Epoch 98/100\n",
            "118/118 [==============================] - 0s 2ms/step - loss: -71099.0391 - accuracy: 0.4355\n",
            "Epoch 99/100\n",
            "118/118 [==============================] - 0s 2ms/step - loss: -72920.7969 - accuracy: 0.4352\n",
            "Epoch 100/100\n",
            "118/118 [==============================] - 0s 2ms/step - loss: -74775.6094 - accuracy: 0.4355\n"
          ]
        },
        {
          "output_type": "execute_result",
          "data": {
            "text/plain": [
              "<keras.callbacks.History at 0x7f4be176c4c0>"
            ]
          },
          "metadata": {},
          "execution_count": 59
        }
      ]
    },
    {
      "cell_type": "code",
      "source": [
        "ann.summary()"
      ],
      "metadata": {
        "colab": {
          "base_uri": "https://localhost:8080/"
        },
        "id": "Egz6RB-kxJR3",
        "outputId": "cbf4233f-5032-4485-fc5b-2bd75026311f"
      },
      "execution_count": 60,
      "outputs": [
        {
          "output_type": "stream",
          "name": "stdout",
          "text": [
            "Model: \"sequential_2\"\n",
            "_________________________________________________________________\n",
            " Layer (type)                Output Shape              Param #   \n",
            "=================================================================\n",
            " dense_6 (Dense)             (None, 6)                 30        \n",
            "                                                                 \n",
            " dense_7 (Dense)             (None, 6)                 42        \n",
            "                                                                 \n",
            " dense_8 (Dense)             (None, 1)                 7         \n",
            "                                                                 \n",
            "=================================================================\n",
            "Total params: 79\n",
            "Trainable params: 79\n",
            "Non-trainable params: 0\n",
            "_________________________________________________________________\n"
          ]
        }
      ]
    },
    {
      "cell_type": "code",
      "source": [
        "y_pred=ann.predict(X_train).astype('int32')"
      ],
      "metadata": {
        "colab": {
          "base_uri": "https://localhost:8080/"
        },
        "id": "210xmlYfxfcP",
        "outputId": "ce204703-6a85-4d88-be49-36190938d66d"
      },
      "execution_count": 61,
      "outputs": [
        {
          "output_type": "stream",
          "name": "stdout",
          "text": [
            "118/118 [==============================] - 0s 1ms/step\n"
          ]
        }
      ]
    },
    {
      "cell_type": "code",
      "source": [
        "test_loss, test_accuracy = ann.evaluate(X_test, y_test, verbose=0)\n",
        "print('Test accuracy:', test_accuracy)"
      ],
      "metadata": {
        "colab": {
          "base_uri": "https://localhost:8080/"
        },
        "id": "Fe88i0HIyu6L",
        "outputId": "902db191-a09b-41bb-c3fa-6bb5ed564716"
      },
      "execution_count": 62,
      "outputs": [
        {
          "output_type": "stream",
          "name": "stdout",
          "text": [
            "Test accuracy: 0.4320000112056732\n"
          ]
        }
      ]
    },
    {
      "cell_type": "code",
      "source": [
        "import pickle\n",
        "# open a file, where you ant to store the data\n",
        "file = open('vibrations_status tarp.pkl', 'wb')\n",
        "\n",
        "# dump information to that file\n",
        "pickle.dump(ann, file)"
      ],
      "metadata": {
        "id": "RuzN5ghS4P5z"
      },
      "execution_count": 63,
      "outputs": []
    }
  ]
}