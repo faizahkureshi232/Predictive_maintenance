{
  "nbformat": 4,
  "nbformat_minor": 0,
  "metadata": {
    "colab": {
      "provenance": []
    },
    "kernelspec": {
      "name": "python3",
      "display_name": "Python 3"
    },
    "language_info": {
      "name": "python"
    }
  },
  "cells": [
    {
      "cell_type": "code",
      "execution_count": 64,
      "metadata": {
        "id": "hMFC16-_6kgz"
      },
      "outputs": [],
      "source": [
        "import numpy as np\n",
        "import matplotlib.pyplot as plt\n",
        "import pandas as pd\n",
        "from sklearn.preprocessing import LabelEncoder\n",
        "from sklearn.model_selection import train_test_split\n",
        "from sklearn import metrics\n",
        "from sklearn.metrics import confusion_matrix, accuracy_score\n",
        "from sklearn.neighbors import KNeighborsClassifier\n",
        "from sklearn.preprocessing import StandardScaler"
      ]
    },
    {
      "cell_type": "code",
      "source": [
        "dataset = pd.read_csv('dataset.csv')"
      ],
      "metadata": {
        "id": "PPjjdX63pS4N"
      },
      "execution_count": 65,
      "outputs": []
    },
    {
      "cell_type": "markdown",
      "source": [
        "##Getting target and features values from dataset"
      ],
      "metadata": {
        "id": "tnB6WiwapWcl"
      }
    },
    {
      "cell_type": "code",
      "source": [
        "def split(b,dataset):\n",
        "  X = dataset.iloc[:, :-4].values\n",
        "  y = dataset[b]\n",
        "  return X,y"
      ],
      "metadata": {
        "id": "CJEFWt5J6qRw"
      },
      "execution_count": 66,
      "outputs": []
    },
    {
      "cell_type": "markdown",
      "source": [
        "##Lable Encoding"
      ],
      "metadata": {
        "id": "lVzfRjcZe2Hl"
      }
    },
    {
      "cell_type": "code",
      "source": [
        "def lableencoding(y):\n",
        "  le = LabelEncoder()\n",
        "  encoded_data = le.fit_transform(Y)\n",
        "\n",
        "  # Get the classes and their corresponding numerical values\n",
        "  classes = le.classes_\n",
        "  numerical_values = le.transform(classes)\n",
        "\n",
        "  # Print the classes and their corresponding numerical values\n",
        "  for i in range(len(classes)):\n",
        "      print(f'{classes[i]}: {numerical_values[i]}')\n",
        "  \n",
        "  print()\n",
        "  return encoded_data\n",
        "  \n"
      ],
      "metadata": {
        "id": "m9yN7Bvaf8jO"
      },
      "execution_count": 67,
      "outputs": []
    },
    {
      "cell_type": "markdown",
      "source": [
        "##Splitting Of Dataset"
      ],
      "metadata": {
        "id": "4VoM23-5e5XH"
      }
    },
    {
      "cell_type": "code",
      "source": [
        "def traintestsplit(X,y):\n",
        "  X_train, X_test, y_train, y_test = train_test_split(X, y, test_size = 0.25, random_state = 0)\n",
        "  #feature scaling\n",
        "  sc = StandardScaler()\n",
        "  X_train = sc.fit_transform(X_train)\n",
        "  X_test = sc.transform(X_test)\n",
        "  return X_train, X_test, y_train, y_test"
      ],
      "metadata": {
        "id": "TsRMf6KJMGRY"
      },
      "execution_count": 68,
      "outputs": []
    },
    {
      "cell_type": "markdown",
      "source": [
        "##Model Building"
      ],
      "metadata": {
        "id": "FczszR8Dzawx"
      }
    },
    {
      "cell_type": "code",
      "source": [
        "import tensorflow as tf"
      ],
      "metadata": {
        "id": "YDWD6nN7YL6W"
      },
      "execution_count": 69,
      "outputs": []
    },
    {
      "cell_type": "code",
      "source": [
        "b='speed_status'"
      ],
      "metadata": {
        "id": "KYyx1IVdX6zD"
      },
      "execution_count": 70,
      "outputs": []
    },
    {
      "cell_type": "code",
      "source": [
        "X,Y=split(b,dataset)"
      ],
      "metadata": {
        "id": "J_sZTzUMXEQ6"
      },
      "execution_count": 71,
      "outputs": []
    },
    {
      "cell_type": "code",
      "source": [
        "y=lableencoding(Y)"
      ],
      "metadata": {
        "colab": {
          "base_uri": "https://localhost:8080/"
        },
        "id": "61cWrxNqXK5H",
        "outputId": "a7106d04-abb0-4b39-ae9b-94c277b6cd06"
      },
      "execution_count": 72,
      "outputs": [
        {
          "output_type": "stream",
          "name": "stdout",
          "text": [
            "HIGH: 0\n",
            "LOW: 1\n",
            "MEDIUM: 2\n",
            "NORMAL: 3\n",
            "\n"
          ]
        }
      ]
    },
    {
      "cell_type": "code",
      "source": [
        "X_train, X_test, y_train, y_test=traintestsplit(X,y)"
      ],
      "metadata": {
        "id": "CljtXOcV1lBg"
      },
      "execution_count": 73,
      "outputs": []
    },
    {
      "cell_type": "code",
      "source": [
        "ann = tf.keras.models.Sequential()"
      ],
      "metadata": {
        "id": "9ZLPp6tTZrMW"
      },
      "execution_count": 74,
      "outputs": []
    },
    {
      "cell_type": "code",
      "source": [
        "ann.add(tf.keras.layers.Dense(units=6, activation='relu'))\n",
        "ann.add(tf.keras.layers.Dense(units=6, activation='relu'))\n",
        "ann.add(tf.keras.layers.Dense(units=1, activation='sigmoid'))\n"
      ],
      "metadata": {
        "id": "46mBayQwZiXf"
      },
      "execution_count": 75,
      "outputs": []
    },
    {
      "cell_type": "markdown",
      "source": [
        "Compiling"
      ],
      "metadata": {
        "id": "hw4Rl9yiZ1yL"
      }
    },
    {
      "cell_type": "code",
      "source": [
        "ann.compile(optimizer = 'adam', loss = 'binary_crossentropy', metrics = ['accuracy'])"
      ],
      "metadata": {
        "id": "VCukMHf9Z55r"
      },
      "execution_count": 76,
      "outputs": []
    },
    {
      "cell_type": "code",
      "source": [
        "ann.fit(X_train, y_train, batch_size = 32, epochs = 100)"
      ],
      "metadata": {
        "colab": {
          "base_uri": "https://localhost:8080/"
        },
        "id": "Ex9s1V_iZ76X",
        "outputId": "5642aed4-9e49-4e45-cecb-08d2da41f49b"
      },
      "execution_count": 77,
      "outputs": [
        {
          "metadata": {
            "tags": null
          },
          "name": "stdout",
          "output_type": "stream",
          "text": [
            "Epoch 1/100\n",
            "118/118 [==============================] - 1s 2ms/step - loss: -0.2040 - accuracy: 0.2160\n",
            "Epoch 2/100\n",
            "118/118 [==============================] - 0s 2ms/step - loss: -2.5066 - accuracy: 0.2168\n",
            "Epoch 3/100\n",
            "118/118 [==============================] - 0s 2ms/step - loss: -8.5525 - accuracy: 0.2168\n",
            "Epoch 4/100\n",
            "118/118 [==============================] - 0s 2ms/step - loss: -21.3256 - accuracy: 0.2168\n",
            "Epoch 5/100\n",
            "118/118 [==============================] - 0s 2ms/step - loss: -43.6279 - accuracy: 0.2168\n",
            "Epoch 6/100\n",
            "118/118 [==============================] - 0s 2ms/step - loss: -77.6481 - accuracy: 0.2168\n",
            "Epoch 7/100\n",
            "118/118 [==============================] - 0s 2ms/step - loss: -125.5477 - accuracy: 0.2168\n",
            "Epoch 8/100\n",
            "118/118 [==============================] - 0s 2ms/step - loss: -188.9262 - accuracy: 0.2168\n",
            "Epoch 9/100\n",
            "118/118 [==============================] - 0s 2ms/step - loss: -269.2498 - accuracy: 0.2168\n",
            "Epoch 10/100\n",
            "118/118 [==============================] - 0s 2ms/step - loss: -367.7598 - accuracy: 0.2168\n",
            "Epoch 11/100\n",
            "118/118 [==============================] - 0s 2ms/step - loss: -485.2641 - accuracy: 0.2168\n",
            "Epoch 12/100\n",
            "118/118 [==============================] - 0s 2ms/step - loss: -623.4435 - accuracy: 0.2176\n",
            "Epoch 13/100\n",
            "118/118 [==============================] - 0s 2ms/step - loss: -783.1382 - accuracy: 0.2333\n",
            "Epoch 14/100\n",
            "118/118 [==============================] - 0s 2ms/step - loss: -965.3332 - accuracy: 0.2472\n",
            "Epoch 15/100\n",
            "118/118 [==============================] - 0s 2ms/step - loss: -1170.4816 - accuracy: 0.2520\n",
            "Epoch 16/100\n",
            "118/118 [==============================] - 0s 2ms/step - loss: -1400.0133 - accuracy: 0.2547\n",
            "Epoch 17/100\n",
            "118/118 [==============================] - 0s 2ms/step - loss: -1653.5114 - accuracy: 0.2584\n",
            "Epoch 18/100\n",
            "118/118 [==============================] - 0s 2ms/step - loss: -1931.3500 - accuracy: 0.2576\n",
            "Epoch 19/100\n",
            "118/118 [==============================] - 0s 3ms/step - loss: -2236.4868 - accuracy: 0.2621\n",
            "Epoch 20/100\n",
            "118/118 [==============================] - 0s 3ms/step - loss: -2566.7861 - accuracy: 0.2619\n",
            "Epoch 21/100\n",
            "118/118 [==============================] - 0s 3ms/step - loss: -2922.9973 - accuracy: 0.2600\n",
            "Epoch 22/100\n",
            "118/118 [==============================] - 0s 4ms/step - loss: -3306.3340 - accuracy: 0.2637\n",
            "Epoch 23/100\n",
            "118/118 [==============================] - 0s 3ms/step - loss: -3716.9172 - accuracy: 0.2667\n",
            "Epoch 24/100\n",
            "118/118 [==============================] - 0s 3ms/step - loss: -4155.6880 - accuracy: 0.2653\n",
            "Epoch 25/100\n",
            "118/118 [==============================] - 0s 2ms/step - loss: -4621.6338 - accuracy: 0.2675\n",
            "Epoch 26/100\n",
            "118/118 [==============================] - 0s 2ms/step - loss: -5115.0815 - accuracy: 0.2683\n",
            "Epoch 27/100\n",
            "118/118 [==============================] - 0s 2ms/step - loss: -5636.7251 - accuracy: 0.2712\n",
            "Epoch 28/100\n",
            "118/118 [==============================] - 0s 2ms/step - loss: -6187.5459 - accuracy: 0.2709\n",
            "Epoch 29/100\n",
            "118/118 [==============================] - 0s 2ms/step - loss: -6767.7241 - accuracy: 0.2717\n",
            "Epoch 30/100\n",
            "118/118 [==============================] - 0s 2ms/step - loss: -7378.2407 - accuracy: 0.2720\n",
            "Epoch 31/100\n",
            "118/118 [==============================] - 0s 2ms/step - loss: -8017.7700 - accuracy: 0.2771\n",
            "Epoch 32/100\n",
            "118/118 [==============================] - 0s 2ms/step - loss: -8688.5420 - accuracy: 0.2749\n",
            "Epoch 33/100\n",
            "118/118 [==============================] - 0s 2ms/step - loss: -9390.6748 - accuracy: 0.2787\n",
            "Epoch 34/100\n",
            "118/118 [==============================] - 0s 2ms/step - loss: -10122.2402 - accuracy: 0.2795\n",
            "Epoch 35/100\n",
            "118/118 [==============================] - 0s 2ms/step - loss: -10889.7764 - accuracy: 0.2805\n",
            "Epoch 36/100\n",
            "118/118 [==============================] - 0s 2ms/step - loss: -11689.3418 - accuracy: 0.2816\n",
            "Epoch 37/100\n",
            "118/118 [==============================] - 0s 2ms/step - loss: -12519.8467 - accuracy: 0.2816\n",
            "Epoch 38/100\n",
            "118/118 [==============================] - 0s 2ms/step - loss: -13380.5117 - accuracy: 0.2837\n",
            "Epoch 39/100\n",
            "118/118 [==============================] - 0s 2ms/step - loss: -14275.1885 - accuracy: 0.2832\n",
            "Epoch 40/100\n",
            "118/118 [==============================] - 0s 2ms/step - loss: -15196.4893 - accuracy: 0.2845\n",
            "Epoch 41/100\n",
            "118/118 [==============================] - 0s 2ms/step - loss: -16152.4746 - accuracy: 0.2867\n",
            "Epoch 42/100\n",
            "118/118 [==============================] - 0s 2ms/step - loss: -17147.8359 - accuracy: 0.2867\n",
            "Epoch 43/100\n",
            "118/118 [==============================] - 0s 2ms/step - loss: -18175.7891 - accuracy: 0.2891\n",
            "Epoch 44/100\n",
            "118/118 [==============================] - 0s 2ms/step - loss: -19240.0977 - accuracy: 0.2901\n",
            "Epoch 45/100\n",
            "118/118 [==============================] - 0s 2ms/step - loss: -20342.2051 - accuracy: 0.2899\n",
            "Epoch 46/100\n",
            "118/118 [==============================] - 0s 2ms/step - loss: -21470.3164 - accuracy: 0.2915\n",
            "Epoch 47/100\n",
            "118/118 [==============================] - 0s 2ms/step - loss: -22634.3965 - accuracy: 0.2925\n",
            "Epoch 48/100\n",
            "118/118 [==============================] - 0s 2ms/step - loss: -23843.5527 - accuracy: 0.2944\n",
            "Epoch 49/100\n",
            "118/118 [==============================] - 0s 2ms/step - loss: -25082.1992 - accuracy: 0.2936\n",
            "Epoch 50/100\n",
            "118/118 [==============================] - 0s 2ms/step - loss: -26361.1953 - accuracy: 0.2947\n",
            "Epoch 51/100\n",
            "118/118 [==============================] - 0s 2ms/step - loss: -27676.9941 - accuracy: 0.2949\n",
            "Epoch 52/100\n",
            "118/118 [==============================] - 0s 2ms/step - loss: -29032.9941 - accuracy: 0.2971\n",
            "Epoch 53/100\n",
            "118/118 [==============================] - 0s 2ms/step - loss: -30422.0527 - accuracy: 0.2957\n",
            "Epoch 54/100\n",
            "118/118 [==============================] - 0s 2ms/step - loss: -31849.0020 - accuracy: 0.2971\n",
            "Epoch 55/100\n",
            "118/118 [==============================] - 0s 2ms/step - loss: -33321.3047 - accuracy: 0.2968\n",
            "Epoch 56/100\n",
            "118/118 [==============================] - 0s 2ms/step - loss: -34824.0195 - accuracy: 0.2987\n",
            "Epoch 57/100\n",
            "118/118 [==============================] - 0s 2ms/step - loss: -36368.2461 - accuracy: 0.2987\n",
            "Epoch 58/100\n",
            "118/118 [==============================] - 0s 2ms/step - loss: -37960.5195 - accuracy: 0.2987\n",
            "Epoch 59/100\n",
            "118/118 [==============================] - 0s 2ms/step - loss: -39593.1133 - accuracy: 0.2987\n",
            "Epoch 60/100\n",
            "118/118 [==============================] - 0s 2ms/step - loss: -41257.8906 - accuracy: 0.3019\n",
            "Epoch 61/100\n",
            "118/118 [==============================] - 0s 2ms/step - loss: -42967.5117 - accuracy: 0.3008\n",
            "Epoch 62/100\n",
            "118/118 [==============================] - 0s 2ms/step - loss: -44718.9180 - accuracy: 0.3013\n",
            "Epoch 63/100\n",
            "118/118 [==============================] - 0s 2ms/step - loss: -46513.8008 - accuracy: 0.3016\n",
            "Epoch 64/100\n",
            "118/118 [==============================] - 0s 2ms/step - loss: -48346.8867 - accuracy: 0.3024\n",
            "Epoch 65/100\n",
            "118/118 [==============================] - 0s 2ms/step - loss: -50228.5273 - accuracy: 0.3016\n",
            "Epoch 66/100\n",
            "118/118 [==============================] - 0s 2ms/step - loss: -52154.9922 - accuracy: 0.3045\n",
            "Epoch 67/100\n",
            "118/118 [==============================] - 0s 2ms/step - loss: -54112.3438 - accuracy: 0.3029\n",
            "Epoch 68/100\n",
            "118/118 [==============================] - 0s 2ms/step - loss: -56107.6406 - accuracy: 0.3053\n",
            "Epoch 69/100\n",
            "118/118 [==============================] - 0s 2ms/step - loss: -58151.4102 - accuracy: 0.3048\n",
            "Epoch 70/100\n",
            "118/118 [==============================] - 0s 3ms/step - loss: -60245.0000 - accuracy: 0.3045\n",
            "Epoch 71/100\n",
            "118/118 [==============================] - 0s 3ms/step - loss: -62385.5352 - accuracy: 0.3061\n",
            "Epoch 72/100\n",
            "118/118 [==============================] - 0s 3ms/step - loss: -64564.0312 - accuracy: 0.3072\n",
            "Epoch 73/100\n",
            "118/118 [==============================] - 0s 3ms/step - loss: -66785.7188 - accuracy: 0.3072\n",
            "Epoch 74/100\n",
            "118/118 [==============================] - 0s 2ms/step - loss: -69075.5391 - accuracy: 0.3080\n",
            "Epoch 75/100\n",
            "118/118 [==============================] - 0s 2ms/step - loss: -71391.5234 - accuracy: 0.3067\n",
            "Epoch 76/100\n",
            "118/118 [==============================] - 0s 2ms/step - loss: -73761.6016 - accuracy: 0.3075\n",
            "Epoch 77/100\n",
            "118/118 [==============================] - 0s 2ms/step - loss: -76160.9531 - accuracy: 0.3088\n",
            "Epoch 78/100\n",
            "118/118 [==============================] - 0s 2ms/step - loss: -78609.2578 - accuracy: 0.3088\n",
            "Epoch 79/100\n",
            "118/118 [==============================] - 0s 2ms/step - loss: -81118.2031 - accuracy: 0.3091\n",
            "Epoch 80/100\n",
            "118/118 [==============================] - 0s 2ms/step - loss: -83675.6250 - accuracy: 0.3099\n",
            "Epoch 81/100\n",
            "118/118 [==============================] - 0s 2ms/step - loss: -86281.1250 - accuracy: 0.3104\n",
            "Epoch 82/100\n",
            "118/118 [==============================] - 0s 2ms/step - loss: -88931.2188 - accuracy: 0.3104\n",
            "Epoch 83/100\n",
            "118/118 [==============================] - 0s 2ms/step - loss: -91623.2344 - accuracy: 0.3104\n",
            "Epoch 84/100\n",
            "118/118 [==============================] - 0s 2ms/step - loss: -94380.5156 - accuracy: 0.3101\n",
            "Epoch 85/100\n",
            "118/118 [==============================] - 0s 2ms/step - loss: -97173.5156 - accuracy: 0.3117\n",
            "Epoch 86/100\n",
            "118/118 [==============================] - 0s 2ms/step - loss: -100015.6719 - accuracy: 0.3109\n",
            "Epoch 87/100\n",
            "118/118 [==============================] - 0s 2ms/step - loss: -102918.5625 - accuracy: 0.3112\n",
            "Epoch 88/100\n",
            "118/118 [==============================] - 0s 2ms/step - loss: -105875.8203 - accuracy: 0.3112\n",
            "Epoch 89/100\n",
            "118/118 [==============================] - 0s 2ms/step - loss: -108879.1562 - accuracy: 0.3125\n",
            "Epoch 90/100\n",
            "118/118 [==============================] - 0s 2ms/step - loss: -111938.0156 - accuracy: 0.3131\n",
            "Epoch 91/100\n",
            "118/118 [==============================] - 0s 2ms/step - loss: -115050.7656 - accuracy: 0.3117\n",
            "Epoch 92/100\n",
            "118/118 [==============================] - 0s 2ms/step - loss: -118211.3906 - accuracy: 0.3123\n",
            "Epoch 93/100\n",
            "118/118 [==============================] - 0s 2ms/step - loss: -121430.2812 - accuracy: 0.3128\n",
            "Epoch 94/100\n",
            "118/118 [==============================] - 0s 2ms/step - loss: -124686.2969 - accuracy: 0.3136\n",
            "Epoch 95/100\n",
            "118/118 [==============================] - 0s 2ms/step - loss: -128017.4375 - accuracy: 0.3133\n",
            "Epoch 96/100\n",
            "118/118 [==============================] - 0s 2ms/step - loss: -131385.7656 - accuracy: 0.3133\n",
            "Epoch 97/100\n",
            "118/118 [==============================] - 0s 2ms/step - loss: -134816.1250 - accuracy: 0.3141\n",
            "Epoch 98/100\n",
            "118/118 [==============================] - 0s 2ms/step - loss: -138297.8438 - accuracy: 0.3155\n",
            "Epoch 99/100\n",
            "118/118 [==============================] - 0s 2ms/step - loss: -141828.3906 - accuracy: 0.3144\n",
            "Epoch 100/100\n",
            "118/118 [==============================] - 0s 2ms/step - loss: -145417.0625 - accuracy: 0.3144\n"
          ]
        },
        {
          "data": {
            "text/plain": [
              "<keras.callbacks.History at 0x7f4be162e850>"
            ]
          },
          "execution_count": 77,
          "metadata": {},
          "output_type": "execute_result"
        }
      ]
    },
    {
      "cell_type": "code",
      "source": [
        "ann.summary()"
      ],
      "metadata": {
        "colab": {
          "base_uri": "https://localhost:8080/"
        },
        "id": "Egz6RB-kxJR3",
        "outputId": "d5d6de8b-9867-4097-9e9a-66d3b30d31ca"
      },
      "execution_count": 78,
      "outputs": [
        {
          "metadata": {
            "tags": null
          },
          "name": "stdout",
          "output_type": "stream",
          "text": [
            "Model: \"sequential_3\"\n",
            "_________________________________________________________________\n",
            " Layer (type)                Output Shape              Param #   \n",
            "=================================================================\n",
            " dense_9 (Dense)             (None, 6)                 30        \n",
            "                                                                 \n",
            " dense_10 (Dense)            (None, 6)                 42        \n",
            "                                                                 \n",
            " dense_11 (Dense)            (None, 1)                 7         \n",
            "                                                                 \n",
            "=================================================================\n",
            "Total params: 79\n",
            "Trainable params: 79\n",
            "Non-trainable params: 0\n",
            "_________________________________________________________________\n"
          ]
        }
      ]
    },
    {
      "cell_type": "code",
      "source": [
        "y_pred=ann.predict(X_train).astype('int32')"
      ],
      "metadata": {
        "colab": {
          "base_uri": "https://localhost:8080/"
        },
        "id": "210xmlYfxfcP",
        "outputId": "8cf8fe14-8571-4133-d595-9db17008c85e"
      },
      "execution_count": 79,
      "outputs": [
        {
          "metadata": {
            "tags": null
          },
          "name": "stdout",
          "output_type": "stream",
          "text": [
            "118/118 [==============================] - 0s 1ms/step\n"
          ]
        }
      ]
    },
    {
      "cell_type": "code",
      "source": [
        "test_loss, test_accuracy = ann.evaluate(X_test, y_test, verbose=0)\n",
        "print('Test accuracy:', test_accuracy)"
      ],
      "metadata": {
        "colab": {
          "base_uri": "https://localhost:8080/"
        },
        "id": "Fe88i0HIyu6L",
        "outputId": "820e7f49-728b-46a0-98ee-636879f2187d"
      },
      "execution_count": 80,
      "outputs": [
        {
          "metadata": {
            "tags": null
          },
          "name": "stdout",
          "output_type": "stream",
          "text": [
            "Test accuracy: 0.30480000376701355\n"
          ]
        }
      ]
    },
    {
      "cell_type": "code",
      "source": [
        "import pickle\n",
        "# open a file, where you ant to store the data\n",
        "file = open('speed_status tarp.pkl', 'wb')\n",
        "\n",
        "# dump information to that file\n",
        "pickle.dump(ann, file)"
      ],
      "metadata": {
        "id": "RuzN5ghS4P5z"
      },
      "execution_count": 81,
      "outputs": []
    }
  ]
}