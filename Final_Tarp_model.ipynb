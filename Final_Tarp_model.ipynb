{
  "nbformat": 4,
  "nbformat_minor": 0,
  "metadata": {
    "colab": {
      "provenance": []
    },
    "kernelspec": {
      "name": "python3",
      "display_name": "Python 3"
    },
    "language_info": {
      "name": "python"
    }
  },
  "cells": [
    {
      "cell_type": "markdown",
      "source": [
        "##Importing"
      ],
      "metadata": {
        "id": "CgoQbgM_0-vm"
      }
    },
    {
      "cell_type": "code",
      "execution_count": 41,
      "metadata": {
        "id": "1smUQ7Cw01ze"
      },
      "outputs": [],
      "source": [
        "import pandas as pd\n",
        "import matplotlib.pyplot as plt\n",
        "import numpy as np\n",
        "import matplotlib.pyplot as plt\n",
        "import pandas as pd\n",
        "from sklearn.preprocessing import LabelEncoder\n",
        "from sklearn.model_selection import train_test_split\n",
        "from sklearn import metrics\n",
        "from sklearn.metrics import confusion_matrix, accuracy_score\n",
        "from sklearn.neighbors import KNeighborsClassifier\n",
        "from sklearn.preprocessing import StandardScaler\n",
        "from imblearn.over_sampling import SMOTE\n",
        "import pickle\n",
        "\n",
        "# Read the dataset into a DataFrame\n",
        "df = pd.read_csv('dataset.csv')"
      ]
    },
    {
      "cell_type": "markdown",
      "source": [
        "##Initializing Function"
      ],
      "metadata": {
        "id": "iJ4m3xDR1Kq5"
      }
    },
    {
      "cell_type": "code",
      "source": [
        "def bargraph(b):\n",
        "  # Count the number of occurrences of each temperature status\n",
        "  counts = df[b].value_counts()\n",
        "  # Create a bar graph\n",
        "  plt.bar(counts.index, counts.values)\n",
        "  # Add title and labels\n",
        "  plt.title('counts')\n",
        "  plt.xlabel(b)\n",
        "  plt.ylabel('Count')\n",
        "  # Display the graph\n",
        "  plt.show()"
      ],
      "metadata": {
        "id": "U75XFkcT1PQl"
      },
      "execution_count": 87,
      "outputs": []
    },
    {
      "cell_type": "code",
      "source": [
        "def split(b,dataset):\n",
        "  X = dataset.iloc[:, :-4].values\n",
        "  y = dataset[b]\n",
        "  return X,y"
      ],
      "metadata": {
        "id": "BTqOVWLF1SRG"
      },
      "execution_count": 6,
      "outputs": []
    },
    {
      "cell_type": "code",
      "source": [
        "\n",
        "def balancedataset(X,Y):\n",
        "  # X and y are the feature matrix and target vector respectively\n",
        "  smote = SMOTE(random_state=42)\n",
        "  X_resampled, y_resampled = smote.fit_resample(X, Y)\n",
        "  return X_resampled, y_resampled"
      ],
      "metadata": {
        "id": "GxxqD9Qi1XCj"
      },
      "execution_count": 7,
      "outputs": []
    },
    {
      "cell_type": "code",
      "source": [
        "def traintestsplit(X,y):\n",
        "  X_train, X_test, y_train, y_test = train_test_split(X, y, test_size = 0.25, random_state = 0)\n",
        "  #feature scaling\n",
        "  sc = StandardScaler()\n",
        "  X_train = sc.fit_transform(X_train)\n",
        "  X_test = sc.transform(X_test)\n",
        "  return X_train, X_test, y_train, y_test"
      ],
      "metadata": {
        "id": "azarirdF2lJh"
      },
      "execution_count": 8,
      "outputs": []
    },
    {
      "cell_type": "code",
      "source": [
        "def lableencoding(y):\n",
        "  le = LabelEncoder()\n",
        "  encoded_data = le.fit_transform(Y)\n",
        "\n",
        "  # Get the classes and their corresponding numerical values\n",
        "  classes = le.classes_\n",
        "  numerical_values = le.transform(classes)\n",
        "\n",
        "  # Print the classes and their corresponding numerical values\n",
        "  for i in range(len(classes)):\n",
        "      print(f'{classes[i]}: {numerical_values[i]}')\n",
        "  return encoded_data"
      ],
      "metadata": {
        "id": "FwSU41xq2mNw"
      },
      "execution_count": 9,
      "outputs": []
    },
    {
      "cell_type": "code",
      "source": [
        "def KNN(X_train,y_train,X_test,y_test):\n",
        "\n",
        "  #finding correct k value\n",
        "  acc = []\n",
        "  for i in range(1,40):\n",
        "      neigh = KNeighborsClassifier(n_neighbors = i).fit(X_train,y_train)\n",
        "      yhat = neigh.predict(X_test)\n",
        "      acc.append(metrics.accuracy_score(y_test, yhat))\n",
        "      \n",
        "  plt.figure(figsize=(10,6))\n",
        "  plt.plot(range(1,40),acc,color = 'blue',linestyle='dashed', \n",
        "          marker='o',markerfacecolor='red', markersize=10)\n",
        "  plt.title('accuracy vs. K Value')\n",
        "  plt.xlabel('K')\n",
        "  plt.ylabel('Accuracy')\n",
        "  print(\"Maximum accuracy:-\",max(acc),\"at K =\",acc.index(max(acc)))\n",
        "  print()\n",
        "  k=acc.index(max(acc))\n",
        "\n",
        "  #training model\n",
        "  classifier = KNeighborsClassifier(n_neighbors =k, metric = 'minkowski', p = 2)\n",
        "  classifier.fit(X_train, y_train)\n",
        "\n",
        "  #predicting values\n",
        "  y_pred = classifier.predict(X_test)\n",
        "  print(np.concatenate((y_pred.reshape(len(y_pred),1), y_test.reshape(len(y_test),1)),1))\n",
        "  print()\n",
        "\n",
        "  #Finding Accuracy\n",
        "  cm = confusion_matrix(y_test, y_pred)\n",
        "  print(cm)\n",
        "  print()\n",
        "  print('Accuracy score',accuracy_score(y_test, y_pred))"
      ],
      "metadata": {
        "id": "9xzOk54K266y"
      },
      "execution_count": 10,
      "outputs": []
    },
    {
      "cell_type": "markdown",
      "source": [
        "##For Temperature status"
      ],
      "metadata": {
        "id": "AyuSn0Ns1mus"
      }
    },
    {
      "cell_type": "code",
      "source": [
        "b='temperature_status'\n",
        "X,Y=split(b,df)"
      ],
      "metadata": {
        "id": "SdfyEpnB1iwh"
      },
      "execution_count": 28,
      "outputs": []
    },
    {
      "cell_type": "code",
      "source": [
        "bargraph(b)"
      ],
      "metadata": {
        "colab": {
          "base_uri": "https://localhost:8080/",
          "height": 472
        },
        "id": "QfDaME-i1vsJ",
        "outputId": "fef8c7b2-7ada-4e11-e15b-b934f6382949"
      },
      "execution_count": 89,
      "outputs": [
        {
          "output_type": "display_data",
          "data": {
            "text/plain": [
              "<Figure size 640x480 with 1 Axes>"
            ],
            "image/png": "[encoded data removed]"
          },
          "metadata": {}
        }
      ]
    },
    {
      "cell_type": "code",
      "source": [
        "X_resampled, y_resampled=balancedataset(X,Y)"
      ],
      "metadata": {
        "id": "9UFTUa_R10TL"
      },
      "execution_count": 30,
      "outputs": []
    },
    {
      "cell_type": "code",
      "source": [
        "# Count the number of occurrences of each temperature status\n",
        "counts = y_resampled.value_counts()\n",
        "# Create a bar graph\n",
        "plt.bar(counts.index, counts.values)\n",
        "# Add title and labels\n",
        "plt.title('Temperature Status Counts')\n",
        "plt.xlabel('Temperature Status')\n",
        "plt.ylabel('Count')\n",
        "# Display the graph\n",
        "plt.show()"
      ],
      "metadata": {
        "colab": {
          "base_uri": "https://localhost:8080/",
          "height": 472
        },
        "id": "iU1c2rtZ1_2Q",
        "outputId": "043d36cd-324c-4787-d1b8-1b05a57bb003"
      },
      "execution_count": 31,
      "outputs": [
        {
          "output_type": "display_data",
          "data": {
            "text/plain": [
              "<Figure size 640x480 with 1 Axes>"
            ],
            "image/png": "[encoded data removed]"
          },
          "metadata": {}
        }
      ]
    },
    {
      "cell_type": "code",
      "source": [
        "len(X_resampled)"
      ],
      "metadata": {
        "colab": {
          "base_uri": "https://localhost:8080/"
        },
        "id": "I4_zQ4Mq4OvM",
        "outputId": "a3633827-1b38-4e99-ea18-31b2599a92df"
      },
      "execution_count": 32,
      "outputs": [
        {
          "output_type": "execute_result",
          "data": {
            "text/plain": [
              "7180"
            ]
          },
          "metadata": {},
          "execution_count": 32
        }
      ]
    },
    {
      "cell_type": "code",
      "source": [
        "print(y_resampled)"
      ],
      "metadata": {
        "colab": {
          "base_uri": "https://localhost:8080/"
        },
        "id": "aj8HnHhy4-3G",
        "outputId": "c8cca71d-a2a6-4273-e6ea-87752bd2094b"
      },
      "execution_count": 33,
      "outputs": [
        {
          "output_type": "stream",
          "name": "stdout",
          "text": [
            "0       MEDIUM\n",
            "1       NORMAL\n",
            "2       NORMAL\n",
            "3       NORMAL\n",
            "4       MEDIUM\n",
            "         ...  \n",
            "7175    MEDIUM\n",
            "7176    MEDIUM\n",
            "7177    MEDIUM\n",
            "7178    MEDIUM\n",
            "7179    MEDIUM\n",
            "Name: temperature_status, Length: 7180, dtype: object\n"
          ]
        }
      ]
    },
    {
      "cell_type": "code",
      "source": [
        "from sklearn.preprocessing import OneHotEncoder\n",
        "le = LabelEncoder()\n",
        "\n",
        "# Fit and transform the data column\n",
        "encoded_data = le.fit_transform(y_resampled)"
      ],
      "metadata": {
        "id": "Wax-tB6-5X2j"
      },
      "execution_count": 34,
      "outputs": []
    },
    {
      "cell_type": "code",
      "source": [
        "len(encoded_data)"
      ],
      "metadata": {
        "colab": {
          "base_uri": "https://localhost:8080/"
        },
        "id": "MbHffS_25knN",
        "outputId": "d1744436-287c-4203-f2de-1e2eff25f2d7"
      },
      "execution_count": 35,
      "outputs": [
        {
          "output_type": "execute_result",
          "data": {
            "text/plain": [
              "7180"
            ]
          },
          "metadata": {},
          "execution_count": 35
        }
      ]
    },
    {
      "cell_type": "code",
      "source": [
        "X_train, X_test, y_train, y_test=traintestsplit(X_resampled,encoded_data)"
      ],
      "metadata": {
        "id": "MMknjOAB2_p6"
      },
      "execution_count": 36,
      "outputs": []
    },
    {
      "cell_type": "code",
      "source": [
        "#training model\n",
        "classifier = KNeighborsClassifier(n_neighbors =33, metric = 'minkowski', p = 2)\n",
        "classifier.fit(X_train, y_train)\n",
        "\n",
        "#predicting values\n",
        "y_pred = classifier.predict(X_test)\n",
        "print(np.concatenate((y_pred.reshape(len(y_pred),1), y_test.reshape(len(y_test),1)),1))\n",
        "print()\n",
        "\n",
        "#Finding Accuracy\n",
        "cm = confusion_matrix(y_test, y_pred)\n",
        "print(cm)\n",
        "print()\n",
        "print('Accuracy score',accuracy_score(y_test, y_pred))"
      ],
      "metadata": {
        "colab": {
          "base_uri": "https://localhost:8080/"
        },
        "id": "TqZRPc0o6ZHl",
        "outputId": "2aa00c35-c43b-47fe-db46-48e8da88a9e3"
      },
      "execution_count": 43,
      "outputs": [
        {
          "output_type": "stream",
          "name": "stdout",
          "text": [
            "[[3 3]\n",
            " [3 3]\n",
            " [1 1]\n",
            " ...\n",
            " [2 2]\n",
            " [1 1]\n",
            " [2 2]]\n",
            "\n",
            "[[457   0   7   0]\n",
            " [  0 433  23   2]\n",
            " [ 51  10 360   0]\n",
            " [  0  43   0 409]]\n",
            "\n",
            "Accuracy score 0.9242339832869081\n"
          ]
        }
      ]
    },
    {
      "cell_type": "code",
      "source": [
        "with open('tem_status.pkl', 'wb') as file:\n",
        "    pickle.dump(classifier, file)"
      ],
      "metadata": {
        "id": "YI3AVGW-6lLc"
      },
      "execution_count": 42,
      "outputs": []
    },
    {
      "cell_type": "markdown",
      "source": [
        "##Humdity Status"
      ],
      "metadata": {
        "id": "bxhbScTA7zx2"
      }
    },
    {
      "cell_type": "code",
      "source": [
        "b='humidity_status'\n",
        "X,Y=split(b,df)"
      ],
      "metadata": {
        "id": "i0IYN3br7mNQ"
      },
      "execution_count": 44,
      "outputs": []
    },
    {
      "cell_type": "code",
      "source": [
        "bargraph(b)"
      ],
      "metadata": {
        "colab": {
          "base_uri": "https://localhost:8080/",
          "height": 472
        },
        "outputId": "d62f3de7-065b-47f3-8c10-22ae385d058c",
        "id": "TdXdbCze7mNR"
      },
      "execution_count": 90,
      "outputs": [
        {
          "output_type": "display_data",
          "data": {
            "text/plain": [
              "<Figure size 640x480 with 1 Axes>"
            ],
            "image/png": "[encoded data removed]"
          },
          "metadata": {}
        }
      ]
    },
    {
      "cell_type": "code",
      "source": [
        "X_resampled, y_resampled=balancedataset(X,Y)"
      ],
      "metadata": {
        "id": "G6Jw-WRG7mNR"
      },
      "execution_count": 46,
      "outputs": []
    },
    {
      "cell_type": "code",
      "source": [
        "# Count the number of occurrences of each temperature status\n",
        "counts = y_resampled.value_counts()\n",
        "# Create a bar graph\n",
        "plt.bar(counts.index, counts.values)\n",
        "# Add title and labels\n",
        "plt.title('Humidity Status Counts')\n",
        "plt.xlabel('Humidity Status')\n",
        "plt.ylabel('Count')\n",
        "# Display the graph\n",
        "plt.show()"
      ],
      "metadata": {
        "colab": {
          "base_uri": "https://localhost:8080/",
          "height": 472
        },
        "outputId": "1b9ff75a-57ed-493f-ae62-c235fcf43d90",
        "id": "lRhYvdd87mNR"
      },
      "execution_count": 47,
      "outputs": [
        {
          "output_type": "display_data",
          "data": {
            "text/plain": [
              "<Figure size 640x480 with 1 Axes>"
            ],
            "image/png": "[encoded data removed]"
          },
          "metadata": {}
        }
      ]
    },
    {
      "cell_type": "code",
      "source": [
        "len(X_resampled)"
      ],
      "metadata": {
        "colab": {
          "base_uri": "https://localhost:8080/"
        },
        "outputId": "71ea8f87-ee6b-46e8-e6fe-cf19fbb80b61",
        "id": "eD2xVB3e7mNR"
      },
      "execution_count": 48,
      "outputs": [
        {
          "output_type": "execute_result",
          "data": {
            "text/plain": [
              "9708"
            ]
          },
          "metadata": {},
          "execution_count": 48
        }
      ]
    },
    {
      "cell_type": "code",
      "source": [
        "print(y_resampled)"
      ],
      "metadata": {
        "colab": {
          "base_uri": "https://localhost:8080/"
        },
        "outputId": "cd0d3648-791a-4ca8-e12f-9000d45e929f",
        "id": "5OkJxLw67mNR"
      },
      "execution_count": 49,
      "outputs": [
        {
          "output_type": "stream",
          "name": "stdout",
          "text": [
            "0       NORMAL\n",
            "1          LOW\n",
            "2          LOW\n",
            "3         HIGH\n",
            "4       NORMAL\n",
            "         ...  \n",
            "9703    MEDIUM\n",
            "9704    MEDIUM\n",
            "9705    MEDIUM\n",
            "9706    MEDIUM\n",
            "9707    MEDIUM\n",
            "Name: humidity_status, Length: 9708, dtype: object\n"
          ]
        }
      ]
    },
    {
      "cell_type": "code",
      "source": [
        "from sklearn.preprocessing import OneHotEncoder\n",
        "le = LabelEncoder()\n",
        "\n",
        "# Fit and transform the data column\n",
        "encoded_data = le.fit_transform(y_resampled)"
      ],
      "metadata": {
        "id": "8QAb-N3u7mNS"
      },
      "execution_count": 50,
      "outputs": []
    },
    {
      "cell_type": "code",
      "source": [
        "len(encoded_data)"
      ],
      "metadata": {
        "colab": {
          "base_uri": "https://localhost:8080/"
        },
        "outputId": "95b40030-d03d-42c2-bbc0-eddf8ef07325",
        "id": "gqXDXtbz7mNS"
      },
      "execution_count": 51,
      "outputs": [
        {
          "output_type": "execute_result",
          "data": {
            "text/plain": [
              "9708"
            ]
          },
          "metadata": {},
          "execution_count": 51
        }
      ]
    },
    {
      "cell_type": "code",
      "source": [
        "X_train, X_test, y_train, y_test=traintestsplit(X_resampled,encoded_data)"
      ],
      "metadata": {
        "id": "NiXQ93R67mNS"
      },
      "execution_count": 52,
      "outputs": []
    },
    {
      "cell_type": "code",
      "source": [
        "#training model\n",
        "classifier = KNeighborsClassifier(n_neighbors =9, metric = 'minkowski', p = 2)\n",
        "classifier.fit(X_train, y_train)\n",
        "\n",
        "#predicting values\n",
        "y_pred = classifier.predict(X_test)\n",
        "print(np.concatenate((y_pred.reshape(len(y_pred),1), y_test.reshape(len(y_test),1)),1))\n",
        "print()\n",
        "\n",
        "#Finding Accuracy\n",
        "cm = confusion_matrix(y_test, y_pred)\n",
        "print(cm)\n",
        "print()\n",
        "print('Accuracy score',accuracy_score(y_test, y_pred))"
      ],
      "metadata": {
        "colab": {
          "base_uri": "https://localhost:8080/"
        },
        "outputId": "d5aee57f-ac25-420f-a754-99b9d606c3c4",
        "id": "JBmAn_v47mNS"
      },
      "execution_count": 54,
      "outputs": [
        {
          "output_type": "stream",
          "name": "stdout",
          "text": [
            "[[1 1]\n",
            " [1 1]\n",
            " [1 1]\n",
            " ...\n",
            " [0 0]\n",
            " [3 3]\n",
            " [0 0]]\n",
            "\n",
            "[[593   0  11   0]\n",
            " [  0 589  13   2]\n",
            " [ 43  25 547   0]\n",
            " [  0  42   0 562]]\n",
            "\n",
            "Accuracy score 0.9439637412443346\n"
          ]
        }
      ]
    },
    {
      "cell_type": "code",
      "source": [
        "with open('hum_status.pkl', 'wb') as file:\n",
        "    pickle.dump(classifier, file)"
      ],
      "metadata": {
        "id": "qWv0kGY97mNS"
      },
      "execution_count": 55,
      "outputs": []
    },
    {
      "cell_type": "markdown",
      "source": [
        "##Vibration Status"
      ],
      "metadata": {
        "id": "7O7OXiAq8cmq"
      }
    },
    {
      "cell_type": "code",
      "source": [
        "b='vibrations_status'\n",
        "X,Y=split(b,df)"
      ],
      "metadata": {
        "id": "x4UwHc3B8mMu"
      },
      "execution_count": 56,
      "outputs": []
    },
    {
      "cell_type": "code",
      "source": [
        "bargraph(b)"
      ],
      "metadata": {
        "colab": {
          "base_uri": "https://localhost:8080/",
          "height": 472
        },
        "outputId": "e2ce1602-a6f4-4ff5-f959-9cade8e14224",
        "id": "4VfzR72-8mMu"
      },
      "execution_count": 91,
      "outputs": [
        {
          "output_type": "display_data",
          "data": {
            "text/plain": [
              "<Figure size 640x480 with 1 Axes>"
            ],
            "image/png": "[encoded data removed]"
          },
          "metadata": {}
        }
      ]
    },
    {
      "cell_type": "code",
      "source": [
        "X_resampled, y_resampled=balancedataset(X,Y)"
      ],
      "metadata": {
        "id": "YgdgvjOi8mMv"
      },
      "execution_count": 58,
      "outputs": []
    },
    {
      "cell_type": "code",
      "source": [
        "# Count the number of occurrences of each temperature status\n",
        "counts = y_resampled.value_counts()\n",
        "# Create a bar graph\n",
        "plt.bar(counts.index, counts.values)\n",
        "# Add title and labels\n",
        "plt.title('Vibration Status Counts')\n",
        "plt.xlabel('Vibration Status')\n",
        "plt.ylabel('Count')\n",
        "# Display the graph\n",
        "plt.show()"
      ],
      "metadata": {
        "colab": {
          "base_uri": "https://localhost:8080/",
          "height": 472
        },
        "outputId": "4ff8eab6-487d-4b01-f56b-a27e772a6a3e",
        "id": "szTwRlLJ8mMv"
      },
      "execution_count": 70,
      "outputs": [
        {
          "output_type": "display_data",
          "data": {
            "text/plain": [
              "<Figure size 640x480 with 1 Axes>"
            ],
            "image/png": "[encoded data removed]"
          },
          "metadata": {}
        }
      ]
    },
    {
      "cell_type": "code",
      "source": [
        "len(X_resampled)"
      ],
      "metadata": {
        "colab": {
          "base_uri": "https://localhost:8080/"
        },
        "outputId": "d6ebe9bb-f046-429d-c1cf-ba18b6b8e584",
        "id": "Q3dQkY6n8mMv"
      },
      "execution_count": 60,
      "outputs": [
        {
          "output_type": "execute_result",
          "data": {
            "text/plain": [
              "5172"
            ]
          },
          "metadata": {},
          "execution_count": 60
        }
      ]
    },
    {
      "cell_type": "code",
      "source": [
        "print(y_resampled)"
      ],
      "metadata": {
        "colab": {
          "base_uri": "https://localhost:8080/"
        },
        "outputId": "08eae31e-22ed-427d-aa4e-6932f3dc13bb",
        "id": "ESZ6Ico78mMv"
      },
      "execution_count": 61,
      "outputs": [
        {
          "output_type": "stream",
          "name": "stdout",
          "text": [
            "0       NORMAL\n",
            "1         HIGH\n",
            "2       NORMAL\n",
            "3         HIGH\n",
            "4          LOW\n",
            "         ...  \n",
            "5167    MEDIUM\n",
            "5168    MEDIUM\n",
            "5169    MEDIUM\n",
            "5170    MEDIUM\n",
            "5171    MEDIUM\n",
            "Name: vibrations_status, Length: 5172, dtype: object\n"
          ]
        }
      ]
    },
    {
      "cell_type": "code",
      "source": [
        "from sklearn.preprocessing import OneHotEncoder\n",
        "le = LabelEncoder()\n",
        "\n",
        "# Fit and transform the data column\n",
        "encoded_data = le.fit_transform(y_resampled)"
      ],
      "metadata": {
        "id": "zEd1Lxiq8mMv"
      },
      "execution_count": 62,
      "outputs": []
    },
    {
      "cell_type": "code",
      "source": [
        "len(encoded_data)"
      ],
      "metadata": {
        "colab": {
          "base_uri": "https://localhost:8080/"
        },
        "outputId": "94242ab6-6f02-42b8-b7a6-8791143a5990",
        "id": "7YEZW9xC8mMv"
      },
      "execution_count": 63,
      "outputs": [
        {
          "output_type": "execute_result",
          "data": {
            "text/plain": [
              "5172"
            ]
          },
          "metadata": {},
          "execution_count": 63
        }
      ]
    },
    {
      "cell_type": "code",
      "source": [
        "X_train, X_test, y_train, y_test=traintestsplit(X_resampled,encoded_data)"
      ],
      "metadata": {
        "id": "iiDHCPHp8mMv"
      },
      "execution_count": 64,
      "outputs": []
    },
    {
      "cell_type": "code",
      "source": [
        "#training model\n",
        "classifier = KNeighborsClassifier(n_neighbors =34, metric = 'minkowski', p = 2)\n",
        "classifier.fit(X_train, y_train)\n",
        "\n",
        "#predicting values\n",
        "y_pred = classifier.predict(X_test)\n",
        "print(np.concatenate((y_pred.reshape(len(y_pred),1), y_test.reshape(len(y_test),1)),1))\n",
        "print()\n",
        "\n",
        "#Finding Accuracy\n",
        "cm = confusion_matrix(y_test, y_pred)\n",
        "print(cm)\n",
        "print()\n",
        "print('Accuracy score',accuracy_score(y_test, y_pred))"
      ],
      "metadata": {
        "colab": {
          "base_uri": "https://localhost:8080/"
        },
        "outputId": "1df347c2-c9c2-4e70-dd4a-c05c1e02abee",
        "id": "s4CdW-g883KU"
      },
      "execution_count": 68,
      "outputs": [
        {
          "output_type": "stream",
          "name": "stdout",
          "text": [
            "[[0 0]\n",
            " [3 3]\n",
            " [2 2]\n",
            " ...\n",
            " [1 1]\n",
            " [0 0]\n",
            " [1 1]]\n",
            "\n",
            "[[318   0  12   0]\n",
            " [  0 309  10  14]\n",
            " [ 19   7 306   0]\n",
            " [  0  16   0 282]]\n",
            "\n",
            "Accuracy score 0.9396751740139211\n"
          ]
        }
      ]
    },
    {
      "cell_type": "code",
      "source": [
        "with open('vib_status.pkl', 'wb') as file: \n",
        "    pickle.dump(classifier, file)"
      ],
      "metadata": {
        "id": "d96TNc_y83KV"
      },
      "execution_count": 69,
      "outputs": []
    },
    {
      "cell_type": "markdown",
      "source": [
        "##Speed Status"
      ],
      "metadata": {
        "id": "8FaGoqqV9Ha3"
      }
    },
    {
      "cell_type": "code",
      "source": [
        "b='speed_status'\n",
        "X,Y=split(b,df)"
      ],
      "metadata": {
        "id": "uGmD18C_9bai"
      },
      "execution_count": 71,
      "outputs": []
    },
    {
      "cell_type": "code",
      "source": [
        "bargraph(b)"
      ],
      "metadata": {
        "colab": {
          "base_uri": "https://localhost:8080/",
          "height": 472
        },
        "outputId": "40b99911-00d8-480f-ec84-4d0d98843683",
        "id": "AqY5ZbjB9bai"
      },
      "execution_count": 88,
      "outputs": [
        {
          "output_type": "display_data",
          "data": {
            "text/plain": [
              "<Figure size 640x480 with 1 Axes>"
            ],
            "image/png": "[encoded data removed]"
          },
          "metadata": {}
        }
      ]
    },
    {
      "cell_type": "code",
      "source": [
        "X_resampled, y_resampled=balancedataset(X,Y)"
      ],
      "metadata": {
        "id": "N7BjufuS9bai"
      },
      "execution_count": 74,
      "outputs": []
    },
    {
      "cell_type": "code",
      "source": [
        "# Count the number of occurrences of each temperature status\n",
        "counts = y_resampled.value_counts()\n",
        "# Create a bar graph\n",
        "plt.bar(counts.index, counts.values)\n",
        "# Add title and labels\n",
        "plt.title('Speed Status Counts')\n",
        "plt.xlabel('Speed Status')\n",
        "plt.ylabel('Count')\n",
        "# Display the graph\n",
        "plt.show()"
      ],
      "metadata": {
        "colab": {
          "base_uri": "https://localhost:8080/",
          "height": 472
        },
        "outputId": "291c2f6a-60f6-4314-b769-6600ac6ce430",
        "id": "zJr4hk2w9baj"
      },
      "execution_count": 76,
      "outputs": [
        {
          "output_type": "display_data",
          "data": {
            "text/plain": [
              "<Figure size 640x480 with 1 Axes>"
            ],
            "image/png": "[encoded data removed]"
          },
          "metadata": {}
        }
      ]
    },
    {
      "cell_type": "code",
      "source": [
        "len(X_resampled)"
      ],
      "metadata": {
        "colab": {
          "base_uri": "https://localhost:8080/"
        },
        "outputId": "2650be26-7ad9-44ba-cedc-f9f50bdb1d39",
        "id": "gg8GqRwf9baj"
      },
      "execution_count": 77,
      "outputs": [
        {
          "output_type": "execute_result",
          "data": {
            "text/plain": [
              "9396"
            ]
          },
          "metadata": {},
          "execution_count": 77
        }
      ]
    },
    {
      "cell_type": "code",
      "source": [
        "print(y_resampled)"
      ],
      "metadata": {
        "colab": {
          "base_uri": "https://localhost:8080/"
        },
        "outputId": "6315f1c2-7654-46ef-a09a-814315fd2a75",
        "id": "YH9OrGWy9baj"
      },
      "execution_count": 78,
      "outputs": [
        {
          "output_type": "stream",
          "name": "stdout",
          "text": [
            "0          LOW\n",
            "1         HIGH\n",
            "2       NORMAL\n",
            "3       NORMAL\n",
            "4       NORMAL\n",
            "         ...  \n",
            "9391    MEDIUM\n",
            "9392    MEDIUM\n",
            "9393    MEDIUM\n",
            "9394    MEDIUM\n",
            "9395    MEDIUM\n",
            "Name: speed_status, Length: 9396, dtype: object\n"
          ]
        }
      ]
    },
    {
      "cell_type": "code",
      "source": [
        "from sklearn.preprocessing import OneHotEncoder\n",
        "le = LabelEncoder()\n",
        "\n",
        "# Fit and transform the data column\n",
        "encoded_data = le.fit_transform(y_resampled)"
      ],
      "metadata": {
        "id": "RxpwUTyU9baj"
      },
      "execution_count": 79,
      "outputs": []
    },
    {
      "cell_type": "code",
      "source": [
        "len(encoded_data)"
      ],
      "metadata": {
        "colab": {
          "base_uri": "https://localhost:8080/"
        },
        "outputId": "339efe79-b1c1-45ca-b51e-6c5905ff24df",
        "id": "HhS8X9Pc9baj"
      },
      "execution_count": 80,
      "outputs": [
        {
          "output_type": "execute_result",
          "data": {
            "text/plain": [
              "9396"
            ]
          },
          "metadata": {},
          "execution_count": 80
        }
      ]
    },
    {
      "cell_type": "code",
      "source": [
        "X_train, X_test, y_train, y_test=traintestsplit(X_resampled,encoded_data)"
      ],
      "metadata": {
        "id": "vRd4h7Ye9baj"
      },
      "execution_count": 81,
      "outputs": []
    },
    {
      "cell_type": "code",
      "source": [
        "#training model\n",
        "classifier = KNeighborsClassifier(n_neighbors =17, metric = 'minkowski', p = 2)\n",
        "classifier.fit(X_train, y_train)\n",
        "\n",
        "#predicting values\n",
        "y_pred = classifier.predict(X_test)\n",
        "print(np.concatenate((y_pred.reshape(len(y_pred),1), y_test.reshape(len(y_test),1)),1))\n",
        "print()\n",
        "\n",
        "#Finding Accuracy\n",
        "cm = confusion_matrix(y_test, y_pred)\n",
        "print(cm)\n",
        "print()\n",
        "print('Accuracy score',accuracy_score(y_test, y_pred))"
      ],
      "metadata": {
        "colab": {
          "base_uri": "https://localhost:8080/"
        },
        "outputId": "c2331ff2-485e-47de-e662-2a2160708b5b",
        "id": "o6qjffw39baj"
      },
      "execution_count": 83,
      "outputs": [
        {
          "output_type": "stream",
          "name": "stdout",
          "text": [
            "[[3 3]\n",
            " [0 0]\n",
            " [0 0]\n",
            " ...\n",
            " [1 1]\n",
            " [2 2]\n",
            " [0 0]]\n",
            "\n",
            "[[559   0  32   0]\n",
            " [  0 511  39   3]\n",
            " [ 40  17 536   0]\n",
            " [  0  47   0 565]]\n",
            "\n",
            "Accuracy score 0.924223073648361\n"
          ]
        }
      ]
    },
    {
      "cell_type": "code",
      "source": [
        "with open('speed_status.pkl', 'wb') as file:\n",
        "    pickle.dump(classifier, file)"
      ],
      "metadata": {
        "id": "7VHcYRoi9bak"
      },
      "execution_count": 85,
      "outputs": []
    }
  ]
}