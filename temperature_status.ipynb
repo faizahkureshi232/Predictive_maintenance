{
  "nbformat": 4,
  "nbformat_minor": 0,
  "metadata": {
    "colab": {
      "provenance": []
    },
    "kernelspec": {
      "name": "python3",
      "display_name": "Python 3"
    },
    "language_info": {
      "name": "python"
    }
  },
  "cells": [
    {
      "cell_type": "code",
      "execution_count": 2,
      "metadata": {
        "id": "hMFC16-_6kgz"
      },
      "outputs": [],
      "source": [
        "import numpy as np\n",
        "import matplotlib.pyplot as plt\n",
        "import pandas as pd\n",
        "from sklearn.preprocessing import LabelEncoder\n",
        "from sklearn.model_selection import train_test_split\n",
        "from sklearn import metrics\n",
        "from sklearn.metrics import confusion_matrix, accuracy_score\n",
        "from sklearn.neighbors import KNeighborsClassifier\n",
        "from sklearn.preprocessing import StandardScaler"
      ]
    },
    {
      "cell_type": "code",
      "source": [
        "dataset = pd.read_csv('dataset.csv')"
      ],
      "metadata": {
        "id": "PPjjdX63pS4N"
      },
      "execution_count": 3,
      "outputs": []
    },
    {
      "cell_type": "markdown",
      "source": [
        "##Getting target and features values from dataset"
      ],
      "metadata": {
        "id": "tnB6WiwapWcl"
      }
    },
    {
      "cell_type": "code",
      "source": [
        "def split(b,dataset):\n",
        "  X = dataset.iloc[:, :-4].values\n",
        "  y = dataset[b]\n",
        "  return X,y"
      ],
      "metadata": {
        "id": "CJEFWt5J6qRw"
      },
      "execution_count": 4,
      "outputs": []
    },
    {
      "cell_type": "markdown",
      "source": [
        "##Lable Encoding"
      ],
      "metadata": {
        "id": "lVzfRjcZe2Hl"
      }
    },
    {
      "cell_type": "code",
      "source": [
        "def lableencoding(y):\n",
        "  le = LabelEncoder()\n",
        "  encoded_data = le.fit_transform(Y)\n",
        "\n",
        "  # Get the classes and their corresponding numerical values\n",
        "  classes = le.classes_\n",
        "  numerical_values = le.transform(classes)\n",
        "\n",
        "  # Print the classes and their corresponding numerical values\n",
        "  for i in range(len(classes)):\n",
        "      print(f'{classes[i]}: {numerical_values[i]}')\n",
        "  \n",
        "  print()\n",
        "  return encoded_data\n",
        "  \n"
      ],
      "metadata": {
        "id": "m9yN7Bvaf8jO"
      },
      "execution_count": 5,
      "outputs": []
    },
    {
      "cell_type": "markdown",
      "source": [
        "##Splitting Of Dataset"
      ],
      "metadata": {
        "id": "4VoM23-5e5XH"
      }
    },
    {
      "cell_type": "code",
      "source": [
        "def traintestsplit(X,y):\n",
        "  X_train, X_test, y_train, y_test = train_test_split(X, y, test_size = 0.25, random_state = 0)\n",
        "  #feature scaling\n",
        "  sc = StandardScaler()\n",
        "  X_train = sc.fit_transform(X_train)\n",
        "  X_test = sc.transform(X_test)\n",
        "  return X_train, X_test, y_train, y_test"
      ],
      "metadata": {
        "id": "TsRMf6KJMGRY"
      },
      "execution_count": 6,
      "outputs": []
    },
    {
      "cell_type": "markdown",
      "source": [
        "##Model Building"
      ],
      "metadata": {
        "id": "FczszR8Dzawx"
      }
    },
    {
      "cell_type": "code",
      "source": [
        "import tensorflow as tf"
      ],
      "metadata": {
        "id": "YDWD6nN7YL6W"
      },
      "execution_count": 15,
      "outputs": []
    },
    {
      "cell_type": "code",
      "source": [
        "b='temperature_status'"
      ],
      "metadata": {
        "id": "KYyx1IVdX6zD"
      },
      "execution_count": 7,
      "outputs": []
    },
    {
      "cell_type": "code",
      "source": [
        "X,Y=split(b,dataset)"
      ],
      "metadata": {
        "id": "J_sZTzUMXEQ6"
      },
      "execution_count": 11,
      "outputs": []
    },
    {
      "cell_type": "code",
      "source": [
        "y=lableencoding(Y)"
      ],
      "metadata": {
        "colab": {
          "base_uri": "https://localhost:8080/"
        },
        "id": "61cWrxNqXK5H",
        "outputId": "117e31c5-0f21-4dd0-afa0-3f70a68f60c2"
      },
      "execution_count": 12,
      "outputs": [
        {
          "output_type": "stream",
          "name": "stdout",
          "text": [
            "HIGH: 0\n",
            "LOW: 1\n",
            "MEDIUM: 2\n",
            "NORMAL: 3\n",
            "\n"
          ]
        }
      ]
    },
    {
      "cell_type": "code",
      "source": [
        "X_train, X_test, y_train, y_test=traintestsplit(X,y)"
      ],
      "metadata": {
        "id": "CljtXOcV1lBg"
      },
      "execution_count": 13,
      "outputs": []
    },
    {
      "cell_type": "code",
      "source": [
        "ann = tf.keras.models.Sequential()"
      ],
      "metadata": {
        "id": "9ZLPp6tTZrMW"
      },
      "execution_count": 16,
      "outputs": []
    },
    {
      "cell_type": "code",
      "source": [
        "ann.add(tf.keras.layers.Dense(units=6, activation='relu'))\n",
        "ann.add(tf.keras.layers.Dense(units=6, activation='relu'))\n",
        "ann.add(tf.keras.layers.Dense(units=1, activation='sigmoid'))\n"
      ],
      "metadata": {
        "id": "46mBayQwZiXf"
      },
      "execution_count": 17,
      "outputs": []
    },
    {
      "cell_type": "markdown",
      "source": [
        "Compiling"
      ],
      "metadata": {
        "id": "hw4Rl9yiZ1yL"
      }
    },
    {
      "cell_type": "code",
      "source": [
        "ann.compile(optimizer = 'adam', loss = 'binary_crossentropy', metrics = ['accuracy'])"
      ],
      "metadata": {
        "id": "VCukMHf9Z55r"
      },
      "execution_count": 18,
      "outputs": []
    },
    {
      "cell_type": "code",
      "source": [
        "ann.fit(X_train, y_train, batch_size = 32, epochs = 100)"
      ],
      "metadata": {
        "colab": {
          "base_uri": "https://localhost:8080/"
        },
        "id": "Ex9s1V_iZ76X",
        "outputId": "d033e69f-4a3c-41cc-f67f-42c9f1846b78"
      },
      "execution_count": 19,
      "outputs": [
        {
          "output_type": "stream",
          "name": "stdout",
          "text": [
            "Epoch 1/100\n",
            "118/118 [==============================] - 2s 2ms/step - loss: 1.0750 - accuracy: 0.1861\n",
            "Epoch 2/100\n",
            "118/118 [==============================] - 0s 2ms/step - loss: 0.1007 - accuracy: 0.2600\n",
            "Epoch 3/100\n",
            "118/118 [==============================] - 0s 2ms/step - loss: -1.4099 - accuracy: 0.2608\n",
            "Epoch 4/100\n",
            "118/118 [==============================] - 0s 2ms/step - loss: -4.8980 - accuracy: 0.2608\n",
            "Epoch 5/100\n",
            "118/118 [==============================] - 0s 2ms/step - loss: -11.9709 - accuracy: 0.2608\n",
            "Epoch 6/100\n",
            "118/118 [==============================] - 0s 2ms/step - loss: -24.0327 - accuracy: 0.2608\n",
            "Epoch 7/100\n",
            "118/118 [==============================] - 0s 2ms/step - loss: -42.4390 - accuracy: 0.2608\n",
            "Epoch 8/100\n",
            "118/118 [==============================] - 0s 2ms/step - loss: -68.7270 - accuracy: 0.2608\n",
            "Epoch 9/100\n",
            "118/118 [==============================] - 0s 2ms/step - loss: -103.9065 - accuracy: 0.2608\n",
            "Epoch 10/100\n",
            "118/118 [==============================] - 0s 2ms/step - loss: -148.4474 - accuracy: 0.2608\n",
            "Epoch 11/100\n",
            "118/118 [==============================] - 0s 2ms/step - loss: -202.7000 - accuracy: 0.2608\n",
            "Epoch 12/100\n",
            "118/118 [==============================] - 0s 2ms/step - loss: -267.3660 - accuracy: 0.2608\n",
            "Epoch 13/100\n",
            "118/118 [==============================] - 0s 2ms/step - loss: -342.7347 - accuracy: 0.2608\n",
            "Epoch 14/100\n",
            "118/118 [==============================] - 0s 2ms/step - loss: -428.9386 - accuracy: 0.2608\n",
            "Epoch 15/100\n",
            "118/118 [==============================] - 0s 2ms/step - loss: -527.1431 - accuracy: 0.2608\n",
            "Epoch 16/100\n",
            "118/118 [==============================] - 0s 2ms/step - loss: -636.4880 - accuracy: 0.2608\n",
            "Epoch 17/100\n",
            "118/118 [==============================] - 0s 2ms/step - loss: -758.7685 - accuracy: 0.2608\n",
            "Epoch 18/100\n",
            "118/118 [==============================] - 0s 2ms/step - loss: -893.1429 - accuracy: 0.2608\n",
            "Epoch 19/100\n",
            "118/118 [==============================] - 0s 2ms/step - loss: -1040.2445 - accuracy: 0.2608\n",
            "Epoch 20/100\n",
            "118/118 [==============================] - 0s 2ms/step - loss: -1199.6714 - accuracy: 0.2608\n",
            "Epoch 21/100\n",
            "118/118 [==============================] - 0s 2ms/step - loss: -1371.4658 - accuracy: 0.2608\n",
            "Epoch 22/100\n",
            "118/118 [==============================] - 0s 2ms/step - loss: -1557.2061 - accuracy: 0.2608\n",
            "Epoch 23/100\n",
            "118/118 [==============================] - 0s 2ms/step - loss: -1756.9448 - accuracy: 0.2608\n",
            "Epoch 24/100\n",
            "118/118 [==============================] - 0s 2ms/step - loss: -1969.0994 - accuracy: 0.2608\n",
            "Epoch 25/100\n",
            "118/118 [==============================] - 0s 2ms/step - loss: -2196.9900 - accuracy: 0.2608\n",
            "Epoch 26/100\n",
            "118/118 [==============================] - 0s 2ms/step - loss: -2436.8276 - accuracy: 0.2608\n",
            "Epoch 27/100\n",
            "118/118 [==============================] - 0s 2ms/step - loss: -2692.2957 - accuracy: 0.2608\n",
            "Epoch 28/100\n",
            "118/118 [==============================] - 0s 2ms/step - loss: -2961.9717 - accuracy: 0.2608\n",
            "Epoch 29/100\n",
            "118/118 [==============================] - 0s 2ms/step - loss: -3246.2424 - accuracy: 0.2608\n",
            "Epoch 30/100\n",
            "118/118 [==============================] - 0s 2ms/step - loss: -3547.3787 - accuracy: 0.2608\n",
            "Epoch 31/100\n",
            "118/118 [==============================] - 0s 2ms/step - loss: -3862.5806 - accuracy: 0.2608\n",
            "Epoch 32/100\n",
            "118/118 [==============================] - 0s 2ms/step - loss: -4191.2939 - accuracy: 0.2608\n",
            "Epoch 33/100\n",
            "118/118 [==============================] - 0s 2ms/step - loss: -4534.4995 - accuracy: 0.2608\n",
            "Epoch 34/100\n",
            "118/118 [==============================] - 0s 2ms/step - loss: -4894.3662 - accuracy: 0.2608\n",
            "Epoch 35/100\n",
            "118/118 [==============================] - 0s 3ms/step - loss: -5272.2856 - accuracy: 0.2608\n",
            "Epoch 36/100\n",
            "118/118 [==============================] - 0s 2ms/step - loss: -5662.3022 - accuracy: 0.2608\n",
            "Epoch 37/100\n",
            "118/118 [==============================] - 0s 2ms/step - loss: -6068.0776 - accuracy: 0.2608\n",
            "Epoch 38/100\n",
            "118/118 [==============================] - 0s 3ms/step - loss: -6491.2524 - accuracy: 0.2608\n",
            "Epoch 39/100\n",
            "118/118 [==============================] - 0s 3ms/step - loss: -6930.9658 - accuracy: 0.2608\n",
            "Epoch 40/100\n",
            "118/118 [==============================] - 0s 2ms/step - loss: -7388.8022 - accuracy: 0.2608\n",
            "Epoch 41/100\n",
            "118/118 [==============================] - 0s 2ms/step - loss: -7861.8447 - accuracy: 0.2608\n",
            "Epoch 42/100\n",
            "118/118 [==============================] - 0s 3ms/step - loss: -8353.1113 - accuracy: 0.2608\n",
            "Epoch 43/100\n",
            "118/118 [==============================] - 0s 3ms/step - loss: -8859.2715 - accuracy: 0.2608\n",
            "Epoch 44/100\n",
            "118/118 [==============================] - 0s 2ms/step - loss: -9384.2656 - accuracy: 0.2608\n",
            "Epoch 45/100\n",
            "118/118 [==============================] - 0s 2ms/step - loss: -9928.0186 - accuracy: 0.2608\n",
            "Epoch 46/100\n",
            "118/118 [==============================] - 0s 2ms/step - loss: -10487.1895 - accuracy: 0.2608\n",
            "Epoch 47/100\n",
            "118/118 [==============================] - 0s 2ms/step - loss: -11067.5391 - accuracy: 0.2608\n",
            "Epoch 48/100\n",
            "118/118 [==============================] - 0s 2ms/step - loss: -11662.6670 - accuracy: 0.2608\n",
            "Epoch 49/100\n",
            "118/118 [==============================] - 0s 2ms/step - loss: -12276.7539 - accuracy: 0.2608\n",
            "Epoch 50/100\n",
            "118/118 [==============================] - 0s 2ms/step - loss: -12903.6035 - accuracy: 0.2608\n",
            "Epoch 51/100\n",
            "118/118 [==============================] - 0s 2ms/step - loss: -13552.2217 - accuracy: 0.2608\n",
            "Epoch 52/100\n",
            "118/118 [==============================] - 0s 2ms/step - loss: -14219.9863 - accuracy: 0.2608\n",
            "Epoch 53/100\n",
            "118/118 [==============================] - 0s 2ms/step - loss: -14904.4932 - accuracy: 0.2608\n",
            "Epoch 54/100\n",
            "118/118 [==============================] - 0s 2ms/step - loss: -15610.1055 - accuracy: 0.2608\n",
            "Epoch 55/100\n",
            "118/118 [==============================] - 0s 2ms/step - loss: -16336.2754 - accuracy: 0.2608\n",
            "Epoch 56/100\n",
            "118/118 [==============================] - 0s 2ms/step - loss: -17080.5859 - accuracy: 0.2608\n",
            "Epoch 57/100\n",
            "118/118 [==============================] - 0s 2ms/step - loss: -17845.3477 - accuracy: 0.2608\n",
            "Epoch 58/100\n",
            "118/118 [==============================] - 0s 2ms/step - loss: -18627.6680 - accuracy: 0.2608\n",
            "Epoch 59/100\n",
            "118/118 [==============================] - 0s 2ms/step - loss: -19439.1699 - accuracy: 0.2608\n",
            "Epoch 60/100\n",
            "118/118 [==============================] - 0s 2ms/step - loss: -20259.1660 - accuracy: 0.2608\n",
            "Epoch 61/100\n",
            "118/118 [==============================] - 0s 2ms/step - loss: -21102.2109 - accuracy: 0.2608\n",
            "Epoch 62/100\n",
            "118/118 [==============================] - 0s 2ms/step - loss: -21966.3672 - accuracy: 0.2608\n",
            "Epoch 63/100\n",
            "118/118 [==============================] - 0s 2ms/step - loss: -22851.1680 - accuracy: 0.2608\n",
            "Epoch 64/100\n",
            "118/118 [==============================] - 0s 2ms/step - loss: -23756.6074 - accuracy: 0.2608\n",
            "Epoch 65/100\n",
            "118/118 [==============================] - 0s 2ms/step - loss: -24682.5605 - accuracy: 0.2608\n",
            "Epoch 66/100\n",
            "118/118 [==============================] - 0s 2ms/step - loss: -25635.7969 - accuracy: 0.2608\n",
            "Epoch 67/100\n",
            "118/118 [==============================] - 0s 2ms/step - loss: -26609.5293 - accuracy: 0.2608\n",
            "Epoch 68/100\n",
            "118/118 [==============================] - 0s 2ms/step - loss: -27609.8691 - accuracy: 0.2608\n",
            "Epoch 69/100\n",
            "118/118 [==============================] - 0s 2ms/step - loss: -28628.8281 - accuracy: 0.2608\n",
            "Epoch 70/100\n",
            "118/118 [==============================] - 0s 2ms/step - loss: -29662.3457 - accuracy: 0.2608\n",
            "Epoch 71/100\n",
            "118/118 [==============================] - 0s 2ms/step - loss: -30714.9902 - accuracy: 0.2608\n",
            "Epoch 72/100\n",
            "118/118 [==============================] - 0s 2ms/step - loss: -31795.0996 - accuracy: 0.2608\n",
            "Epoch 73/100\n",
            "118/118 [==============================] - 0s 2ms/step - loss: -32895.1133 - accuracy: 0.2608\n",
            "Epoch 74/100\n",
            "118/118 [==============================] - 0s 2ms/step - loss: -34026.8047 - accuracy: 0.2608\n",
            "Epoch 75/100\n",
            "118/118 [==============================] - 0s 2ms/step - loss: -35178.4297 - accuracy: 0.2608\n",
            "Epoch 76/100\n",
            "118/118 [==============================] - 0s 2ms/step - loss: -36347.0938 - accuracy: 0.2608\n",
            "Epoch 77/100\n",
            "118/118 [==============================] - 0s 2ms/step - loss: -37545.7148 - accuracy: 0.2608\n",
            "Epoch 78/100\n",
            "118/118 [==============================] - 0s 2ms/step - loss: -38761.6992 - accuracy: 0.2608\n",
            "Epoch 79/100\n",
            "118/118 [==============================] - 0s 2ms/step - loss: -40006.7188 - accuracy: 0.2608\n",
            "Epoch 80/100\n",
            "118/118 [==============================] - 0s 2ms/step - loss: -41273.1641 - accuracy: 0.2608\n",
            "Epoch 81/100\n",
            "118/118 [==============================] - 0s 2ms/step - loss: -42573.5586 - accuracy: 0.2608\n",
            "Epoch 82/100\n",
            "118/118 [==============================] - 0s 2ms/step - loss: -43894.6602 - accuracy: 0.2608\n",
            "Epoch 83/100\n",
            "118/118 [==============================] - 0s 2ms/step - loss: -45243.6406 - accuracy: 0.2608\n",
            "Epoch 84/100\n",
            "118/118 [==============================] - 0s 2ms/step - loss: -46600.7461 - accuracy: 0.2608\n",
            "Epoch 85/100\n",
            "118/118 [==============================] - 0s 2ms/step - loss: -47990.8164 - accuracy: 0.2608\n",
            "Epoch 86/100\n",
            "118/118 [==============================] - 0s 2ms/step - loss: -49408.5156 - accuracy: 0.2608\n",
            "Epoch 87/100\n",
            "118/118 [==============================] - 0s 2ms/step - loss: -50852.2695 - accuracy: 0.2608\n",
            "Epoch 88/100\n",
            "118/118 [==============================] - 0s 2ms/step - loss: -52319.0273 - accuracy: 0.2608\n",
            "Epoch 89/100\n",
            "118/118 [==============================] - 0s 2ms/step - loss: -53801.8125 - accuracy: 0.2608\n",
            "Epoch 90/100\n",
            "118/118 [==============================] - 0s 2ms/step - loss: -55321.4961 - accuracy: 0.2608\n",
            "Epoch 91/100\n",
            "118/118 [==============================] - 0s 2ms/step - loss: -56861.6094 - accuracy: 0.2608\n",
            "Epoch 92/100\n",
            "118/118 [==============================] - 0s 3ms/step - loss: -58429.9180 - accuracy: 0.2608\n",
            "Epoch 93/100\n",
            "118/118 [==============================] - 0s 3ms/step - loss: -60024.8320 - accuracy: 0.2608\n",
            "Epoch 94/100\n",
            "118/118 [==============================] - 0s 3ms/step - loss: -61659.9570 - accuracy: 0.2608\n",
            "Epoch 95/100\n",
            "118/118 [==============================] - 0s 2ms/step - loss: -63316.4844 - accuracy: 0.2608\n",
            "Epoch 96/100\n",
            "118/118 [==============================] - 0s 2ms/step - loss: -65004.2148 - accuracy: 0.2608\n",
            "Epoch 97/100\n",
            "118/118 [==============================] - 0s 2ms/step - loss: -66708.1484 - accuracy: 0.2608\n",
            "Epoch 98/100\n",
            "118/118 [==============================] - 0s 2ms/step - loss: -68443.6719 - accuracy: 0.2608\n",
            "Epoch 99/100\n",
            "118/118 [==============================] - 0s 3ms/step - loss: -70201.9141 - accuracy: 0.2608\n",
            "Epoch 100/100\n",
            "118/118 [==============================] - 0s 2ms/step - loss: -72000.6641 - accuracy: 0.2608\n"
          ]
        },
        {
          "output_type": "execute_result",
          "data": {
            "text/plain": [
              "<keras.callbacks.History at 0x7f4be10e1670>"
            ]
          },
          "metadata": {},
          "execution_count": 19
        }
      ]
    },
    {
      "cell_type": "code",
      "source": [
        "ann.summary()"
      ],
      "metadata": {
        "colab": {
          "base_uri": "https://localhost:8080/"
        },
        "id": "Egz6RB-kxJR3",
        "outputId": "536c7788-d482-46f2-8771-7a955964210b"
      },
      "execution_count": 20,
      "outputs": [
        {
          "output_type": "stream",
          "name": "stdout",
          "text": [
            "Model: \"sequential\"\n",
            "_________________________________________________________________\n",
            " Layer (type)                Output Shape              Param #   \n",
            "=================================================================\n",
            " dense (Dense)               (None, 6)                 30        \n",
            "                                                                 \n",
            " dense_1 (Dense)             (None, 6)                 42        \n",
            "                                                                 \n",
            " dense_2 (Dense)             (None, 1)                 7         \n",
            "                                                                 \n",
            "=================================================================\n",
            "Total params: 79\n",
            "Trainable params: 79\n",
            "Non-trainable params: 0\n",
            "_________________________________________________________________\n"
          ]
        }
      ]
    },
    {
      "cell_type": "code",
      "source": [
        "y_pred=ann.predict(X_train).astype('int32')"
      ],
      "metadata": {
        "colab": {
          "base_uri": "https://localhost:8080/"
        },
        "id": "210xmlYfxfcP",
        "outputId": "21079a0e-2c46-46f7-bf7f-e2145d2a5d10"
      },
      "execution_count": 21,
      "outputs": [
        {
          "output_type": "stream",
          "name": "stdout",
          "text": [
            "118/118 [==============================] - 0s 1ms/step\n"
          ]
        }
      ]
    },
    {
      "cell_type": "code",
      "source": [
        "test_loss, test_accuracy = ann.evaluate(X_test, y_test, verbose=0)\n",
        "print('Test accuracy:', test_accuracy)"
      ],
      "metadata": {
        "colab": {
          "base_uri": "https://localhost:8080/"
        },
        "id": "Fe88i0HIyu6L",
        "outputId": "5a19d266-7c62-4f72-f100-9a2b94309e01"
      },
      "execution_count": 22,
      "outputs": [
        {
          "output_type": "stream",
          "name": "stdout",
          "text": [
            "Test accuracy: 0.2248000055551529\n"
          ]
        }
      ]
    },
    {
      "cell_type": "code",
      "source": [
        "import pickle\n",
        "# open a file, where you ant to store the data\n",
        "file = open('temperature_status tarp.pkl', 'wb')\n",
        "\n",
        "# dump information to that file\n",
        "pickle.dump(ann, file)"
      ],
      "metadata": {
        "id": "RuzN5ghS4P5z"
      },
      "execution_count": 26,
      "outputs": []
    }
  ]
}